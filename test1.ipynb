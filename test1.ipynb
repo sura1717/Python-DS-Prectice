{
  "nbformat": 4,
  "nbformat_minor": 0,
  "metadata": {
    "colab": {
      "provenance": []
    },
    "kernelspec": {
      "name": "python3",
      "display_name": "Python 3"
    },
    "language_info": {
      "name": "python"
    }
  },
  "cells": [
    {
      "cell_type": "code",
      "execution_count": null,
      "metadata": {
        "id": "HP-XdzTMv4qM"
      },
      "outputs": [],
      "source": [
        "import numpy as np\n",
        "import pandas as pd\n",
        "import matplotlib.pyplot as plt"
      ]
    },
    {
      "cell_type": "markdown",
      "source": [
        "##1. Campaign Performance Report:\n"
      ],
      "metadata": {
        "id": "3vMtUnf7wK8h"
      }
    },
    {
      "cell_type": "code",
      "source": [
        "df=pd.read_csv(\"/content/Data Analyst _ Sample Data _HDM - call-data-udpated.csv\")"
      ],
      "metadata": {
        "id": "mrBQLkJrwTu1"
      },
      "execution_count": null,
      "outputs": []
    },
    {
      "cell_type": "code",
      "source": [
        "# 1. Total calls (count of call_sid)\n",
        "df[\"Call Id\"].count()"
      ],
      "metadata": {
        "colab": {
          "base_uri": "https://localhost:8080/"
        },
        "id": "FMGdNkmXwT_Y",
        "outputId": "6cefbf78-ff2f-4a3e-a18f-e3be32483d3d"
      },
      "execution_count": null,
      "outputs": [
        {
          "output_type": "execute_result",
          "data": {
            "text/plain": [
              "6144"
            ]
          },
          "metadata": {},
          "execution_count": 10
        }
      ]
    },
    {
      "cell_type": "code",
      "source": [
        "# 2. Unique leads (count of distinct lead_id)\n",
        "df[\"Lead Id\"].nunique()"
      ],
      "metadata": {
        "colab": {
          "base_uri": "https://localhost:8080/"
        },
        "id": "j17ZXlCeyCG0",
        "outputId": "3cc4cf44-8a60-492f-892a-3b050fe2a966"
      },
      "execution_count": null,
      "outputs": [
        {
          "output_type": "execute_result",
          "data": {
            "text/plain": [
              "2765"
            ]
          },
          "metadata": {},
          "execution_count": 11
        }
      ]
    },
    {
      "cell_type": "code",
      "source": [
        "# 3. Calls connected (count of call_status = \"Answered\")\n",
        "df[df[\"Call Status\"]!= \"no-answer\"][\"Call Status\"].count()"
      ],
      "metadata": {
        "colab": {
          "base_uri": "https://localhost:8080/"
        },
        "id": "OhZS8kiey9NJ",
        "outputId": "a463195c-de38-4f24-a3b1-2e27050ad7bc"
      },
      "execution_count": null,
      "outputs": [
        {
          "output_type": "execute_result",
          "data": {
            "text/plain": [
              "2370"
            ]
          },
          "metadata": {},
          "execution_count": 12
        }
      ]
    },
    {
      "cell_type": "code",
      "source": [
        "# 4. Unique calls connected (count of distinct lead_id where call_status = \"Answered\")\n",
        "df[df[\"Call Status\"]!= \"no-answer\"][\"Lead Id\"].nunique()"
      ],
      "metadata": {
        "colab": {
          "base_uri": "https://localhost:8080/"
        },
        "id": "JfbtOT-NzgF7",
        "outputId": "f2df1b11-0a89-46e2-e8a7-0458f2bc6ef4"
      },
      "execution_count": null,
      "outputs": [
        {
          "output_type": "execute_result",
          "data": {
            "text/plain": [
              "1714"
            ]
          },
          "metadata": {},
          "execution_count": 13
        }
      ]
    },
    {
      "cell_type": "code",
      "source": [
        "# 5. Leads converted (count of call_status = \"Interested\")\n",
        "df[df[\"Lead Status\"]== \"Interested\"][\"Call Status\"].count()"
      ],
      "metadata": {
        "colab": {
          "base_uri": "https://localhost:8080/"
        },
        "id": "AcLESX3T0-Rh",
        "outputId": "108e2907-cd79-44f2-96f4-5f9b0edf36dc"
      },
      "execution_count": null,
      "outputs": [
        {
          "output_type": "execute_result",
          "data": {
            "text/plain": [
              "754"
            ]
          },
          "metadata": {},
          "execution_count": 14
        }
      ]
    },
    {
      "cell_type": "code",
      "source": [
        "# 6. Qualified leads (count of leads meeting advertiser criteria)"
      ],
      "metadata": {
        "id": "fLxGr2nc1puh"
      },
      "execution_count": null,
      "outputs": []
    },
    {
      "cell_type": "code",
      "source": [
        "# 7. Leads lost (count of call_status = \"Not Interested\")\n",
        "df[df[\"Lead Status\"]== \"Not Interested\"][\"Call Status\"].count()"
      ],
      "metadata": {
        "colab": {
          "base_uri": "https://localhost:8080/"
        },
        "id": "iAqteCvO2rOw",
        "outputId": "9c53f88d-e042-4967-d6b6-c43565c692dc"
      },
      "execution_count": null,
      "outputs": [
        {
          "output_type": "execute_result",
          "data": {
            "text/plain": [
              "1109"
            ]
          },
          "metadata": {},
          "execution_count": 15
        }
      ]
    },
    {
      "cell_type": "code",
      "source": [
        "# 8. Average agent call duration (average of Agent Call Duration)\n",
        "df[\"Agent Duration(seconds)\"].sum()//df[\"Agent Duration(seconds)\"].count()"
      ],
      "metadata": {
        "colab": {
          "base_uri": "https://localhost:8080/"
        },
        "id": "nVDKUWWF27LH",
        "outputId": "077dea1a-fe2f-4d80-f720-30683150352b"
      },
      "execution_count": null,
      "outputs": [
        {
          "output_type": "execute_result",
          "data": {
            "text/plain": [
              "35.0"
            ]
          },
          "metadata": {},
          "execution_count": 16
        }
      ]
    },
    {
      "cell_type": "code",
      "source": [
        "#9. Average customer call duration (average of Customer Call Duration)\n",
        "df[\"Customer Duration(seconds)\"].sum()//df[\"Customer Duration(seconds)\"].count()"
      ],
      "metadata": {
        "colab": {
          "base_uri": "https://localhost:8080/"
        },
        "id": "ipJBUeh43a1k",
        "outputId": "e0450f18-1631-486a-89f0-03e29a4bb64b"
      },
      "execution_count": null,
      "outputs": [
        {
          "output_type": "execute_result",
          "data": {
            "text/plain": [
              "13.0"
            ]
          },
          "metadata": {},
          "execution_count": 17
        }
      ]
    },
    {
      "cell_type": "markdown",
      "source": [
        "##2. Lead Disposition Report:"
      ],
      "metadata": {
        "id": "W_Sj7Zhq4Ddy"
      }
    },
    {
      "cell_type": "code",
      "source": [
        "# Distribution of call statuses (Interested, Not Interested, Not Answered, Busy, etc.)\n",
        "grouped=df.groupby(\"Lead Status\").size()\n",
        "grouped"
      ],
      "metadata": {
        "colab": {
          "base_uri": "https://localhost:8080/"
        },
        "id": "TVGljA754IEC",
        "outputId": "4de5bad6-6f4f-4b46-eb28-203c29765ba2"
      },
      "execution_count": null,
      "outputs": [
        {
          "output_type": "execute_result",
          "data": {
            "text/plain": [
              "Lead Status\n",
              "Already Bought             125\n",
              "Already Verified            64\n",
              "Bought Another Product     266\n",
              "Busy                      1184\n",
              "Call Back                   98\n",
              "Hung-up                      5\n",
              "Interested                 754\n",
              "Invalid Number              80\n",
              "Language Barrier           181\n",
              "No Answer                 1409\n",
              "Not Eligible - Age          10\n",
              "Not Eligible - Income       13\n",
              "Not Interested            1109\n",
              "Not Reachable              357\n",
              "Voice Issue                488\n",
              "dtype: int64"
            ]
          },
          "metadata": {},
          "execution_count": 18
        }
      ]
    },
    {
      "cell_type": "markdown",
      "source": [
        "##3. Agent Performance Report:"
      ],
      "metadata": {
        "id": "aPBn7yPo5iPd"
      }
    },
    {
      "cell_type": "code",
      "source": [
        "# Number of calls made (count of call_sid per agent)\n",
        "df.groupby(\"Agent Id\")[\"Call Id\"].count()\n"
      ],
      "metadata": {
        "colab": {
          "base_uri": "https://localhost:8080/"
        },
        "id": "0Y5WQ9lm5kd7",
        "outputId": "ad8cfeb5-f7fd-420f-aff3-a073cd3a0062"
      },
      "execution_count": null,
      "outputs": [
        {
          "output_type": "execute_result",
          "data": {
            "text/plain": [
              "Agent Id\n",
              "1          4\n",
              "779       27\n",
              "1656       1\n",
              "2707     104\n",
              "2714    2453\n",
              "2728    4134\n",
              "2771    4372\n",
              "2772    2930\n",
              "2778     659\n",
              "2780     999\n",
              "2783    1147\n",
              "2784      57\n",
              "2787     572\n",
              "2790     750\n",
              "2791     668\n",
              "2793     704\n",
              "2795      65\n",
              "2796    1304\n",
              "2797      44\n",
              "2798     386\n",
              "2799    2128\n",
              "2803     533\n",
              "2804     582\n",
              "Name: Call Id, dtype: int64"
            ]
          },
          "metadata": {},
          "execution_count": 42
        }
      ]
    },
    {
      "cell_type": "code",
      "source": [
        "#Calls connected (count of call_status = \"Answered\" per agent)\n",
        "df[df[\"Call Status\"]!=\"no-answer\"].groupby(\"Agent Id\")[\"Call Status\"].count()"
      ],
      "metadata": {
        "colab": {
          "base_uri": "https://localhost:8080/"
        },
        "id": "hzOKnReK6l2Z",
        "outputId": "070d9dc3-fe2e-4e38-9d23-9c0215e4a84a"
      },
      "execution_count": null,
      "outputs": [
        {
          "output_type": "execute_result",
          "data": {
            "text/plain": [
              "Agent Id\n",
              "1          2\n",
              "779       11\n",
              "2707      15\n",
              "2714     933\n",
              "2728    1566\n",
              "2771    1533\n",
              "2772    1008\n",
              "2778     241\n",
              "2780     203\n",
              "2783     437\n",
              "2784      20\n",
              "2787     217\n",
              "2790     253\n",
              "2791     230\n",
              "2793     262\n",
              "2795      24\n",
              "2796     475\n",
              "2797      13\n",
              "2798     132\n",
              "2799     637\n",
              "2803     135\n",
              "2804     234\n",
              "Name: Call Status, dtype: int64"
            ]
          },
          "metadata": {},
          "execution_count": 52
        }
      ]
    },
    {
      "cell_type": "code",
      "source": [
        "#Leads converted (count of call_status = \"Interested\" per agent)\n",
        "df[df[\"Lead Status\"]==\"Interested\"].groupby(\"Agent Id\")[\"Call Status\"].count()"
      ],
      "metadata": {
        "colab": {
          "base_uri": "https://localhost:8080/"
        },
        "id": "v54e05qX8RvT",
        "outputId": "a3be3cbc-63ca-4484-8b1b-e080be4036da"
      },
      "execution_count": null,
      "outputs": [
        {
          "output_type": "execute_result",
          "data": {
            "text/plain": [
              "Agent Id\n",
              "779       4\n",
              "2707     15\n",
              "2714    374\n",
              "2728    699\n",
              "2771    685\n",
              "2772    315\n",
              "2778     99\n",
              "2780    117\n",
              "2783    142\n",
              "2784      5\n",
              "2787     69\n",
              "2790     97\n",
              "2791     69\n",
              "2793     97\n",
              "2795     14\n",
              "2796    253\n",
              "2797      8\n",
              "2798     31\n",
              "2799    248\n",
              "2803     46\n",
              "2804     64\n",
              "Name: Call Status, dtype: int64"
            ]
          },
          "metadata": {},
          "execution_count": 54
        }
      ]
    },
    {
      "cell_type": "code",
      "source": [
        "# Average agent call duration (average of Agent Call Duration per agent)\n",
        "agent_group=df.groupby(\"Agent Id\")\n",
        "agent_group[\"Agent Duration(seconds)\"].sum()/agent_group[\"Agent Duration(seconds)\"].count()"
      ],
      "metadata": {
        "colab": {
          "base_uri": "https://localhost:8080/"
        },
        "id": "Uzy4nQZO88cI",
        "outputId": "7e2169d4-7ec9-468d-b553-fffee810caa6"
      },
      "execution_count": null,
      "outputs": [
        {
          "output_type": "execute_result",
          "data": {
            "text/plain": [
              "Agent Id\n",
              "1       26.750000\n",
              "779     21.481481\n",
              "1656     4.000000\n",
              "2707    12.230769\n",
              "2714    35.485120\n",
              "2728    37.163280\n",
              "2771    36.529735\n",
              "2772    30.637201\n",
              "2778    45.048558\n",
              "2780    22.380380\n",
              "2783    46.931997\n",
              "2784    35.508772\n",
              "2787    37.694056\n",
              "2790    35.133333\n",
              "2791    37.188623\n",
              "2793    43.643466\n",
              "2795    38.676923\n",
              "2796    38.801380\n",
              "2797    45.181818\n",
              "2798    39.007772\n",
              "2799    30.555451\n",
              "2803    37.469043\n",
              "2804    45.135739\n",
              "Name: Agent Duration(seconds), dtype: float64"
            ]
          },
          "metadata": {},
          "execution_count": 58
        }
      ]
    },
    {
      "cell_type": "code",
      "source": [
        "# Average customer call duration (average of Customer Call Duration per agent)\n",
        "agent_group[\"Customer Duration(seconds)\"].sum()/agent_group[\"Customer Duration(seconds)\"].count()"
      ],
      "metadata": {
        "colab": {
          "base_uri": "https://localhost:8080/"
        },
        "id": "0xA35Dok9nfq",
        "outputId": "452f6a9a-4ccc-4d28-de09-40d844d60382"
      },
      "execution_count": null,
      "outputs": [
        {
          "output_type": "execute_result",
          "data": {
            "text/plain": [
              "Agent Id\n",
              "1        9.250000\n",
              "779      9.518519\n",
              "1656     0.000000\n",
              "2707     4.076923\n",
              "2714    13.937220\n",
              "2728    13.615627\n",
              "2771    13.043687\n",
              "2772     9.832765\n",
              "2778    17.546282\n",
              "2780     6.146146\n",
              "2783    18.741064\n",
              "2784    14.087719\n",
              "2787    13.220280\n",
              "2790    12.726667\n",
              "2791     9.598802\n",
              "2793    17.015625\n",
              "2795    13.153846\n",
              "2796    16.029141\n",
              "2797    18.500000\n",
              "2798    15.225389\n",
              "2799     9.906485\n",
              "2803    12.996248\n",
              "2804    18.530928\n",
              "Name: Customer Duration(seconds), dtype: float64"
            ]
          },
          "metadata": {},
          "execution_count": 60
        }
      ]
    },
    {
      "cell_type": "markdown",
      "source": [
        "##4. Additional Reports:\n"
      ],
      "metadata": {
        "id": "MzvH9WOC98Uo"
      }
    },
    {
      "cell_type": "markdown",
      "source": [
        "You are encouraged to create any additional reports that you believe would provide valuable insights or improve our call center operations."
      ],
      "metadata": {
        "id": "e5MAo9Kc-S2q"
      }
    },
    {
      "cell_type": "code",
      "source": [
        "df['Date'] = pd.to_datetime('2023-01-01')       # Assuming all calls were made on the same date\n",
        "df_date_group = df.groupby(['Date', 'Call Status'])\n"
      ],
      "metadata": {
        "colab": {
          "base_uri": "https://localhost:8080/",
          "height": 825
        },
        "id": "WK9bXumo-0qd",
        "outputId": "8ca363fd-fea2-4fdc-a959-5079353b591d"
      },
      "execution_count": null,
      "outputs": [
        {
          "output_type": "execute_result",
          "data": {
            "text/plain": [
              "       Call Id  Lead Id  Campaign ID  Advertiser Id  \\\n",
              "0        26807   410987       930228           1883   \n",
              "1        26808   410986       930228           1883   \n",
              "2        26809   410985       930228           1883   \n",
              "3        26810   410984       930228           1883   \n",
              "4        26811   410981       930228           1883   \n",
              "...        ...      ...          ...            ...   \n",
              "24618    51694   452649       930270           1883   \n",
              "24619    51695   452648       930270           1883   \n",
              "24620    51696   452647       930270           1883   \n",
              "24621    51697   452646       930270           1883   \n",
              "24622    51698   452646       930270           1883   \n",
              "\n",
              "                                    Hid Call Status     Lead Status  \\\n",
              "0       40831aceu6850re1ece43deeqf20a6o   no-answer  Not Interested   \n",
              "1       3dc489fbg6850pe1ece43deewf20a6v   completed  Not Interested   \n",
              "2       92d7bfbag6850se1ece43deevf20a6y   no-answer  Invalid Number   \n",
              "3       3a9872eem6850oe1ece43deetf20a6m   completed  Not Interested   \n",
              "4       3dde873bx6850je1ece43deehf20a6u   no-answer            Busy   \n",
              "...                                 ...         ...             ...   \n",
              "24618  d449d4aewcze1ec687663hcne4373a65   completed  Not Interested   \n",
              "24619  43d96decjcle1ec687663zcnf55dce0f   completed       Call Back   \n",
              "24620  ff5897edxcwe1ec687663zcva2756b59   completed  Not Interested   \n",
              "24621  b485f83fjcle1ec687663kcy54cfacf3   no-answer     Voice Issue   \n",
              "24622  b485f83fjcle1ec687663kcy54cfacf3   completed     Voice Issue   \n",
              "\n",
              "       Agent Duration(seconds)  Customer Duration(seconds)  \\\n",
              "0                            8                           0   \n",
              "1                           51                          34   \n",
              "2                            9                           0   \n",
              "3                           45                          25   \n",
              "4                           45                           0   \n",
              "...                        ...                         ...   \n",
              "24618                       30                          21   \n",
              "24619                       34                          23   \n",
              "24620                       79                          60   \n",
              "24621                       16                           0   \n",
              "24622                       51                          35   \n",
              "\n",
              "       From Calling Number To Calling Number  Attempt No           Created At  \\\n",
              "0             9.186570e+11     +919552777764           1  2024-04-01 11:35:19   \n",
              "1             9.186570e+11     +917275507242           1  2024-04-01 11:35:27   \n",
              "2             9.186570e+11     +919430734094           1  2024-04-01 11:36:19   \n",
              "3             9.186570e+11     +918349289209           1  2024-04-01 11:36:29   \n",
              "4             9.186570e+11     +917054670061           1  2024-04-01 11:37:14   \n",
              "...                    ...               ...         ...                  ...   \n",
              "24618         9.186570e+11        7837713409           1  2024-05-15 19:18:00   \n",
              "24619         9.186570e+11        9915515529           1  2024-05-15 19:18:30   \n",
              "24620         9.186570e+11        9166733250           1  2024-05-15 19:19:09   \n",
              "24621         9.186570e+11        9888255000           1  2024-05-15 19:20:28   \n",
              "24622         9.186570e+11        9888255000           2  2024-05-15 19:20:45   \n",
              "\n",
              "                Updated At  Agent Id      Agent Name       Date  \n",
              "0      2024-04-01 11:35:27      2728   Mansi Jaiswal 2023-01-01  \n",
              "1      2024-04-01 11:36:19      2728   Mansi Jaiswal 2023-01-01  \n",
              "2      2024-04-01 11:36:28      2728   Mansi Jaiswal 2023-01-01  \n",
              "3      2024-04-01 11:37:15      2728   Mansi Jaiswal 2023-01-01  \n",
              "4      2024-04-01 11:38:00      2728   Mansi Jaiswal 2023-01-01  \n",
              "...                    ...       ...             ...        ...  \n",
              "24618  2024-05-15 19:18:31      2804  Niharika Bhatt 2023-01-01  \n",
              "24619  2024-05-15 19:19:09      2804  Niharika Bhatt 2023-01-01  \n",
              "24620  2024-05-15 19:20:29      2804  Niharika Bhatt 2023-01-01  \n",
              "24621  2024-05-15 19:20:45      2804  Niharika Bhatt 2023-01-01  \n",
              "24622  2024-05-15 19:21:36      2804  Niharika Bhatt 2023-01-01  \n",
              "\n",
              "[24623 rows x 17 columns]"
            ],
            "text/html": [
              "\n",
              "  <div id=\"df-5cd1ae7d-ff2a-4cfe-8061-b466338fb815\" class=\"colab-df-container\">\n",
              "    <div>\n",
              "<style scoped>\n",
              "    .dataframe tbody tr th:only-of-type {\n",
              "        vertical-align: middle;\n",
              "    }\n",
              "\n",
              "    .dataframe tbody tr th {\n",
              "        vertical-align: top;\n",
              "    }\n",
              "\n",
              "    .dataframe thead th {\n",
              "        text-align: right;\n",
              "    }\n",
              "</style>\n",
              "<table border=\"1\" class=\"dataframe\">\n",
              "  <thead>\n",
              "    <tr style=\"text-align: right;\">\n",
              "      <th></th>\n",
              "      <th>Call Id</th>\n",
              "      <th>Lead Id</th>\n",
              "      <th>Campaign ID</th>\n",
              "      <th>Advertiser Id</th>\n",
              "      <th>Hid</th>\n",
              "      <th>Call Status</th>\n",
              "      <th>Lead Status</th>\n",
              "      <th>Agent Duration(seconds)</th>\n",
              "      <th>Customer Duration(seconds)</th>\n",
              "      <th>From Calling Number</th>\n",
              "      <th>To Calling Number</th>\n",
              "      <th>Attempt No</th>\n",
              "      <th>Created At</th>\n",
              "      <th>Updated At</th>\n",
              "      <th>Agent Id</th>\n",
              "      <th>Agent Name</th>\n",
              "      <th>Date</th>\n",
              "    </tr>\n",
              "  </thead>\n",
              "  <tbody>\n",
              "    <tr>\n",
              "      <th>0</th>\n",
              "      <td>26807</td>\n",
              "      <td>410987</td>\n",
              "      <td>930228</td>\n",
              "      <td>1883</td>\n",
              "      <td>40831aceu6850re1ece43deeqf20a6o</td>\n",
              "      <td>no-answer</td>\n",
              "      <td>Not Interested</td>\n",
              "      <td>8</td>\n",
              "      <td>0</td>\n",
              "      <td>9.186570e+11</td>\n",
              "      <td>+919552777764</td>\n",
              "      <td>1</td>\n",
              "      <td>2024-04-01 11:35:19</td>\n",
              "      <td>2024-04-01 11:35:27</td>\n",
              "      <td>2728</td>\n",
              "      <td>Mansi Jaiswal</td>\n",
              "      <td>2023-01-01</td>\n",
              "    </tr>\n",
              "    <tr>\n",
              "      <th>1</th>\n",
              "      <td>26808</td>\n",
              "      <td>410986</td>\n",
              "      <td>930228</td>\n",
              "      <td>1883</td>\n",
              "      <td>3dc489fbg6850pe1ece43deewf20a6v</td>\n",
              "      <td>completed</td>\n",
              "      <td>Not Interested</td>\n",
              "      <td>51</td>\n",
              "      <td>34</td>\n",
              "      <td>9.186570e+11</td>\n",
              "      <td>+917275507242</td>\n",
              "      <td>1</td>\n",
              "      <td>2024-04-01 11:35:27</td>\n",
              "      <td>2024-04-01 11:36:19</td>\n",
              "      <td>2728</td>\n",
              "      <td>Mansi Jaiswal</td>\n",
              "      <td>2023-01-01</td>\n",
              "    </tr>\n",
              "    <tr>\n",
              "      <th>2</th>\n",
              "      <td>26809</td>\n",
              "      <td>410985</td>\n",
              "      <td>930228</td>\n",
              "      <td>1883</td>\n",
              "      <td>92d7bfbag6850se1ece43deevf20a6y</td>\n",
              "      <td>no-answer</td>\n",
              "      <td>Invalid Number</td>\n",
              "      <td>9</td>\n",
              "      <td>0</td>\n",
              "      <td>9.186570e+11</td>\n",
              "      <td>+919430734094</td>\n",
              "      <td>1</td>\n",
              "      <td>2024-04-01 11:36:19</td>\n",
              "      <td>2024-04-01 11:36:28</td>\n",
              "      <td>2728</td>\n",
              "      <td>Mansi Jaiswal</td>\n",
              "      <td>2023-01-01</td>\n",
              "    </tr>\n",
              "    <tr>\n",
              "      <th>3</th>\n",
              "      <td>26810</td>\n",
              "      <td>410984</td>\n",
              "      <td>930228</td>\n",
              "      <td>1883</td>\n",
              "      <td>3a9872eem6850oe1ece43deetf20a6m</td>\n",
              "      <td>completed</td>\n",
              "      <td>Not Interested</td>\n",
              "      <td>45</td>\n",
              "      <td>25</td>\n",
              "      <td>9.186570e+11</td>\n",
              "      <td>+918349289209</td>\n",
              "      <td>1</td>\n",
              "      <td>2024-04-01 11:36:29</td>\n",
              "      <td>2024-04-01 11:37:15</td>\n",
              "      <td>2728</td>\n",
              "      <td>Mansi Jaiswal</td>\n",
              "      <td>2023-01-01</td>\n",
              "    </tr>\n",
              "    <tr>\n",
              "      <th>4</th>\n",
              "      <td>26811</td>\n",
              "      <td>410981</td>\n",
              "      <td>930228</td>\n",
              "      <td>1883</td>\n",
              "      <td>3dde873bx6850je1ece43deehf20a6u</td>\n",
              "      <td>no-answer</td>\n",
              "      <td>Busy</td>\n",
              "      <td>45</td>\n",
              "      <td>0</td>\n",
              "      <td>9.186570e+11</td>\n",
              "      <td>+917054670061</td>\n",
              "      <td>1</td>\n",
              "      <td>2024-04-01 11:37:14</td>\n",
              "      <td>2024-04-01 11:38:00</td>\n",
              "      <td>2728</td>\n",
              "      <td>Mansi Jaiswal</td>\n",
              "      <td>2023-01-01</td>\n",
              "    </tr>\n",
              "    <tr>\n",
              "      <th>...</th>\n",
              "      <td>...</td>\n",
              "      <td>...</td>\n",
              "      <td>...</td>\n",
              "      <td>...</td>\n",
              "      <td>...</td>\n",
              "      <td>...</td>\n",
              "      <td>...</td>\n",
              "      <td>...</td>\n",
              "      <td>...</td>\n",
              "      <td>...</td>\n",
              "      <td>...</td>\n",
              "      <td>...</td>\n",
              "      <td>...</td>\n",
              "      <td>...</td>\n",
              "      <td>...</td>\n",
              "      <td>...</td>\n",
              "      <td>...</td>\n",
              "    </tr>\n",
              "    <tr>\n",
              "      <th>24618</th>\n",
              "      <td>51694</td>\n",
              "      <td>452649</td>\n",
              "      <td>930270</td>\n",
              "      <td>1883</td>\n",
              "      <td>d449d4aewcze1ec687663hcne4373a65</td>\n",
              "      <td>completed</td>\n",
              "      <td>Not Interested</td>\n",
              "      <td>30</td>\n",
              "      <td>21</td>\n",
              "      <td>9.186570e+11</td>\n",
              "      <td>7837713409</td>\n",
              "      <td>1</td>\n",
              "      <td>2024-05-15 19:18:00</td>\n",
              "      <td>2024-05-15 19:18:31</td>\n",
              "      <td>2804</td>\n",
              "      <td>Niharika Bhatt</td>\n",
              "      <td>2023-01-01</td>\n",
              "    </tr>\n",
              "    <tr>\n",
              "      <th>24619</th>\n",
              "      <td>51695</td>\n",
              "      <td>452648</td>\n",
              "      <td>930270</td>\n",
              "      <td>1883</td>\n",
              "      <td>43d96decjcle1ec687663zcnf55dce0f</td>\n",
              "      <td>completed</td>\n",
              "      <td>Call Back</td>\n",
              "      <td>34</td>\n",
              "      <td>23</td>\n",
              "      <td>9.186570e+11</td>\n",
              "      <td>9915515529</td>\n",
              "      <td>1</td>\n",
              "      <td>2024-05-15 19:18:30</td>\n",
              "      <td>2024-05-15 19:19:09</td>\n",
              "      <td>2804</td>\n",
              "      <td>Niharika Bhatt</td>\n",
              "      <td>2023-01-01</td>\n",
              "    </tr>\n",
              "    <tr>\n",
              "      <th>24620</th>\n",
              "      <td>51696</td>\n",
              "      <td>452647</td>\n",
              "      <td>930270</td>\n",
              "      <td>1883</td>\n",
              "      <td>ff5897edxcwe1ec687663zcva2756b59</td>\n",
              "      <td>completed</td>\n",
              "      <td>Not Interested</td>\n",
              "      <td>79</td>\n",
              "      <td>60</td>\n",
              "      <td>9.186570e+11</td>\n",
              "      <td>9166733250</td>\n",
              "      <td>1</td>\n",
              "      <td>2024-05-15 19:19:09</td>\n",
              "      <td>2024-05-15 19:20:29</td>\n",
              "      <td>2804</td>\n",
              "      <td>Niharika Bhatt</td>\n",
              "      <td>2023-01-01</td>\n",
              "    </tr>\n",
              "    <tr>\n",
              "      <th>24621</th>\n",
              "      <td>51697</td>\n",
              "      <td>452646</td>\n",
              "      <td>930270</td>\n",
              "      <td>1883</td>\n",
              "      <td>b485f83fjcle1ec687663kcy54cfacf3</td>\n",
              "      <td>no-answer</td>\n",
              "      <td>Voice Issue</td>\n",
              "      <td>16</td>\n",
              "      <td>0</td>\n",
              "      <td>9.186570e+11</td>\n",
              "      <td>9888255000</td>\n",
              "      <td>1</td>\n",
              "      <td>2024-05-15 19:20:28</td>\n",
              "      <td>2024-05-15 19:20:45</td>\n",
              "      <td>2804</td>\n",
              "      <td>Niharika Bhatt</td>\n",
              "      <td>2023-01-01</td>\n",
              "    </tr>\n",
              "    <tr>\n",
              "      <th>24622</th>\n",
              "      <td>51698</td>\n",
              "      <td>452646</td>\n",
              "      <td>930270</td>\n",
              "      <td>1883</td>\n",
              "      <td>b485f83fjcle1ec687663kcy54cfacf3</td>\n",
              "      <td>completed</td>\n",
              "      <td>Voice Issue</td>\n",
              "      <td>51</td>\n",
              "      <td>35</td>\n",
              "      <td>9.186570e+11</td>\n",
              "      <td>9888255000</td>\n",
              "      <td>2</td>\n",
              "      <td>2024-05-15 19:20:45</td>\n",
              "      <td>2024-05-15 19:21:36</td>\n",
              "      <td>2804</td>\n",
              "      <td>Niharika Bhatt</td>\n",
              "      <td>2023-01-01</td>\n",
              "    </tr>\n",
              "  </tbody>\n",
              "</table>\n",
              "<p>24623 rows × 17 columns</p>\n",
              "</div>\n",
              "    <div class=\"colab-df-buttons\">\n",
              "\n",
              "  <div class=\"colab-df-container\">\n",
              "    <button class=\"colab-df-convert\" onclick=\"convertToInteractive('df-5cd1ae7d-ff2a-4cfe-8061-b466338fb815')\"\n",
              "            title=\"Convert this dataframe to an interactive table.\"\n",
              "            style=\"display:none;\">\n",
              "\n",
              "  <svg xmlns=\"http://www.w3.org/2000/svg\" height=\"24px\" viewBox=\"0 -960 960 960\">\n",
              "    <path d=\"M120-120v-720h720v720H120Zm60-500h600v-160H180v160Zm220 220h160v-160H400v160Zm0 220h160v-160H400v160ZM180-400h160v-160H180v160Zm440 0h160v-160H620v160ZM180-180h160v-160H180v160Zm440 0h160v-160H620v160Z\"/>\n",
              "  </svg>\n",
              "    </button>\n",
              "\n",
              "  <style>\n",
              "    .colab-df-container {\n",
              "      display:flex;\n",
              "      gap: 12px;\n",
              "    }\n",
              "\n",
              "    .colab-df-convert {\n",
              "      background-color: #E8F0FE;\n",
              "      border: none;\n",
              "      border-radius: 50%;\n",
              "      cursor: pointer;\n",
              "      display: none;\n",
              "      fill: #1967D2;\n",
              "      height: 32px;\n",
              "      padding: 0 0 0 0;\n",
              "      width: 32px;\n",
              "    }\n",
              "\n",
              "    .colab-df-convert:hover {\n",
              "      background-color: #E2EBFA;\n",
              "      box-shadow: 0px 1px 2px rgba(60, 64, 67, 0.3), 0px 1px 3px 1px rgba(60, 64, 67, 0.15);\n",
              "      fill: #174EA6;\n",
              "    }\n",
              "\n",
              "    .colab-df-buttons div {\n",
              "      margin-bottom: 4px;\n",
              "    }\n",
              "\n",
              "    [theme=dark] .colab-df-convert {\n",
              "      background-color: #3B4455;\n",
              "      fill: #D2E3FC;\n",
              "    }\n",
              "\n",
              "    [theme=dark] .colab-df-convert:hover {\n",
              "      background-color: #434B5C;\n",
              "      box-shadow: 0px 1px 3px 1px rgba(0, 0, 0, 0.15);\n",
              "      filter: drop-shadow(0px 1px 2px rgba(0, 0, 0, 0.3));\n",
              "      fill: #FFFFFF;\n",
              "    }\n",
              "  </style>\n",
              "\n",
              "    <script>\n",
              "      const buttonEl =\n",
              "        document.querySelector('#df-5cd1ae7d-ff2a-4cfe-8061-b466338fb815 button.colab-df-convert');\n",
              "      buttonEl.style.display =\n",
              "        google.colab.kernel.accessAllowed ? 'block' : 'none';\n",
              "\n",
              "      async function convertToInteractive(key) {\n",
              "        const element = document.querySelector('#df-5cd1ae7d-ff2a-4cfe-8061-b466338fb815');\n",
              "        const dataTable =\n",
              "          await google.colab.kernel.invokeFunction('convertToInteractive',\n",
              "                                                    [key], {});\n",
              "        if (!dataTable) return;\n",
              "\n",
              "        const docLinkHtml = 'Like what you see? Visit the ' +\n",
              "          '<a target=\"_blank\" href=https://colab.research.google.com/notebooks/data_table.ipynb>data table notebook</a>'\n",
              "          + ' to learn more about interactive tables.';\n",
              "        element.innerHTML = '';\n",
              "        dataTable['output_type'] = 'display_data';\n",
              "        await google.colab.output.renderOutput(dataTable, element);\n",
              "        const docLink = document.createElement('div');\n",
              "        docLink.innerHTML = docLinkHtml;\n",
              "        element.appendChild(docLink);\n",
              "      }\n",
              "    </script>\n",
              "  </div>\n",
              "\n",
              "\n",
              "<div id=\"df-a5d10bae-5e3c-4e47-b348-d15ab0031934\">\n",
              "  <button class=\"colab-df-quickchart\" onclick=\"quickchart('df-a5d10bae-5e3c-4e47-b348-d15ab0031934')\"\n",
              "            title=\"Suggest charts\"\n",
              "            style=\"display:none;\">\n",
              "\n",
              "<svg xmlns=\"http://www.w3.org/2000/svg\" height=\"24px\"viewBox=\"0 0 24 24\"\n",
              "     width=\"24px\">\n",
              "    <g>\n",
              "        <path d=\"M19 3H5c-1.1 0-2 .9-2 2v14c0 1.1.9 2 2 2h14c1.1 0 2-.9 2-2V5c0-1.1-.9-2-2-2zM9 17H7v-7h2v7zm4 0h-2V7h2v10zm4 0h-2v-4h2v4z\"/>\n",
              "    </g>\n",
              "</svg>\n",
              "  </button>\n",
              "\n",
              "<style>\n",
              "  .colab-df-quickchart {\n",
              "      --bg-color: #E8F0FE;\n",
              "      --fill-color: #1967D2;\n",
              "      --hover-bg-color: #E2EBFA;\n",
              "      --hover-fill-color: #174EA6;\n",
              "      --disabled-fill-color: #AAA;\n",
              "      --disabled-bg-color: #DDD;\n",
              "  }\n",
              "\n",
              "  [theme=dark] .colab-df-quickchart {\n",
              "      --bg-color: #3B4455;\n",
              "      --fill-color: #D2E3FC;\n",
              "      --hover-bg-color: #434B5C;\n",
              "      --hover-fill-color: #FFFFFF;\n",
              "      --disabled-bg-color: #3B4455;\n",
              "      --disabled-fill-color: #666;\n",
              "  }\n",
              "\n",
              "  .colab-df-quickchart {\n",
              "    background-color: var(--bg-color);\n",
              "    border: none;\n",
              "    border-radius: 50%;\n",
              "    cursor: pointer;\n",
              "    display: none;\n",
              "    fill: var(--fill-color);\n",
              "    height: 32px;\n",
              "    padding: 0;\n",
              "    width: 32px;\n",
              "  }\n",
              "\n",
              "  .colab-df-quickchart:hover {\n",
              "    background-color: var(--hover-bg-color);\n",
              "    box-shadow: 0 1px 2px rgba(60, 64, 67, 0.3), 0 1px 3px 1px rgba(60, 64, 67, 0.15);\n",
              "    fill: var(--button-hover-fill-color);\n",
              "  }\n",
              "\n",
              "  .colab-df-quickchart-complete:disabled,\n",
              "  .colab-df-quickchart-complete:disabled:hover {\n",
              "    background-color: var(--disabled-bg-color);\n",
              "    fill: var(--disabled-fill-color);\n",
              "    box-shadow: none;\n",
              "  }\n",
              "\n",
              "  .colab-df-spinner {\n",
              "    border: 2px solid var(--fill-color);\n",
              "    border-color: transparent;\n",
              "    border-bottom-color: var(--fill-color);\n",
              "    animation:\n",
              "      spin 1s steps(1) infinite;\n",
              "  }\n",
              "\n",
              "  @keyframes spin {\n",
              "    0% {\n",
              "      border-color: transparent;\n",
              "      border-bottom-color: var(--fill-color);\n",
              "      border-left-color: var(--fill-color);\n",
              "    }\n",
              "    20% {\n",
              "      border-color: transparent;\n",
              "      border-left-color: var(--fill-color);\n",
              "      border-top-color: var(--fill-color);\n",
              "    }\n",
              "    30% {\n",
              "      border-color: transparent;\n",
              "      border-left-color: var(--fill-color);\n",
              "      border-top-color: var(--fill-color);\n",
              "      border-right-color: var(--fill-color);\n",
              "    }\n",
              "    40% {\n",
              "      border-color: transparent;\n",
              "      border-right-color: var(--fill-color);\n",
              "      border-top-color: var(--fill-color);\n",
              "    }\n",
              "    60% {\n",
              "      border-color: transparent;\n",
              "      border-right-color: var(--fill-color);\n",
              "    }\n",
              "    80% {\n",
              "      border-color: transparent;\n",
              "      border-right-color: var(--fill-color);\n",
              "      border-bottom-color: var(--fill-color);\n",
              "    }\n",
              "    90% {\n",
              "      border-color: transparent;\n",
              "      border-bottom-color: var(--fill-color);\n",
              "    }\n",
              "  }\n",
              "</style>\n",
              "\n",
              "  <script>\n",
              "    async function quickchart(key) {\n",
              "      const quickchartButtonEl =\n",
              "        document.querySelector('#' + key + ' button');\n",
              "      quickchartButtonEl.disabled = true;  // To prevent multiple clicks.\n",
              "      quickchartButtonEl.classList.add('colab-df-spinner');\n",
              "      try {\n",
              "        const charts = await google.colab.kernel.invokeFunction(\n",
              "            'suggestCharts', [key], {});\n",
              "      } catch (error) {\n",
              "        console.error('Error during call to suggestCharts:', error);\n",
              "      }\n",
              "      quickchartButtonEl.classList.remove('colab-df-spinner');\n",
              "      quickchartButtonEl.classList.add('colab-df-quickchart-complete');\n",
              "    }\n",
              "    (() => {\n",
              "      let quickchartButtonEl =\n",
              "        document.querySelector('#df-a5d10bae-5e3c-4e47-b348-d15ab0031934 button');\n",
              "      quickchartButtonEl.style.display =\n",
              "        google.colab.kernel.accessAllowed ? 'block' : 'none';\n",
              "    })();\n",
              "  </script>\n",
              "</div>\n",
              "\n",
              "  <div id=\"id_59e0d275-6b03-40aa-a846-110be9567f90\">\n",
              "    <style>\n",
              "      .colab-df-generate {\n",
              "        background-color: #E8F0FE;\n",
              "        border: none;\n",
              "        border-radius: 50%;\n",
              "        cursor: pointer;\n",
              "        display: none;\n",
              "        fill: #1967D2;\n",
              "        height: 32px;\n",
              "        padding: 0 0 0 0;\n",
              "        width: 32px;\n",
              "      }\n",
              "\n",
              "      .colab-df-generate:hover {\n",
              "        background-color: #E2EBFA;\n",
              "        box-shadow: 0px 1px 2px rgba(60, 64, 67, 0.3), 0px 1px 3px 1px rgba(60, 64, 67, 0.15);\n",
              "        fill: #174EA6;\n",
              "      }\n",
              "\n",
              "      [theme=dark] .colab-df-generate {\n",
              "        background-color: #3B4455;\n",
              "        fill: #D2E3FC;\n",
              "      }\n",
              "\n",
              "      [theme=dark] .colab-df-generate:hover {\n",
              "        background-color: #434B5C;\n",
              "        box-shadow: 0px 1px 3px 1px rgba(0, 0, 0, 0.15);\n",
              "        filter: drop-shadow(0px 1px 2px rgba(0, 0, 0, 0.3));\n",
              "        fill: #FFFFFF;\n",
              "      }\n",
              "    </style>\n",
              "    <button class=\"colab-df-generate\" onclick=\"generateWithVariable('df')\"\n",
              "            title=\"Generate code using this dataframe.\"\n",
              "            style=\"display:none;\">\n",
              "\n",
              "  <svg xmlns=\"http://www.w3.org/2000/svg\" height=\"24px\"viewBox=\"0 0 24 24\"\n",
              "       width=\"24px\">\n",
              "    <path d=\"M7,19H8.4L18.45,9,17,7.55,7,17.6ZM5,21V16.75L18.45,3.32a2,2,0,0,1,2.83,0l1.4,1.43a1.91,1.91,0,0,1,.58,1.4,1.91,1.91,0,0,1-.58,1.4L9.25,21ZM18.45,9,17,7.55Zm-12,3A5.31,5.31,0,0,0,4.9,8.1,5.31,5.31,0,0,0,1,6.5,5.31,5.31,0,0,0,4.9,4.9,5.31,5.31,0,0,0,6.5,1,5.31,5.31,0,0,0,8.1,4.9,5.31,5.31,0,0,0,12,6.5,5.46,5.46,0,0,0,6.5,12Z\"/>\n",
              "  </svg>\n",
              "    </button>\n",
              "    <script>\n",
              "      (() => {\n",
              "      const buttonEl =\n",
              "        document.querySelector('#id_59e0d275-6b03-40aa-a846-110be9567f90 button.colab-df-generate');\n",
              "      buttonEl.style.display =\n",
              "        google.colab.kernel.accessAllowed ? 'block' : 'none';\n",
              "\n",
              "      buttonEl.onclick = () => {\n",
              "        google.colab.notebook.generateWithVariable('df');\n",
              "      }\n",
              "      })();\n",
              "    </script>\n",
              "  </div>\n",
              "\n",
              "    </div>\n",
              "  </div>\n"
            ],
            "application/vnd.google.colaboratory.intrinsic+json": {
              "type": "dataframe",
              "variable_name": "df",
              "summary": "{\n  \"name\": \"df\",\n  \"rows\": 24623,\n  \"fields\": [\n    {\n      \"column\": \"Call Id\",\n      \"properties\": {\n        \"dtype\": \"number\",\n        \"std\": 7178,\n        \"min\": 26807,\n        \"max\": 51698,\n        \"num_unique_values\": 24623,\n        \"samples\": [\n          46520,\n          47550,\n          36453\n        ],\n        \"semantic_type\": \"\",\n        \"description\": \"\"\n      }\n    },\n    {\n      \"column\": \"Lead Id\",\n      \"properties\": {\n        \"dtype\": \"number\",\n        \"std\": 14006,\n        \"min\": 342820,\n        \"max\": 454079,\n        \"num_unique_values\": 8278,\n        \"samples\": [\n          412413,\n          438070,\n          437494\n        ],\n        \"semantic_type\": \"\",\n        \"description\": \"\"\n      }\n    },\n    {\n      \"column\": \"Campaign ID\",\n      \"properties\": {\n        \"dtype\": \"number\",\n        \"std\": 17,\n        \"min\": 930056,\n        \"max\": 930270,\n        \"num_unique_values\": 18,\n        \"samples\": [\n          930228,\n          930126,\n          930260\n        ],\n        \"semantic_type\": \"\",\n        \"description\": \"\"\n      }\n    },\n    {\n      \"column\": \"Advertiser Id\",\n      \"properties\": {\n        \"dtype\": \"number\",\n        \"std\": 43,\n        \"min\": 367,\n        \"max\": 1889,\n        \"num_unique_values\": 5,\n        \"samples\": [\n          1825,\n          367,\n          1857\n        ],\n        \"semantic_type\": \"\",\n        \"description\": \"\"\n      }\n    },\n    {\n      \"column\": \"Hid\",\n      \"properties\": {\n        \"dtype\": \"category\",\n        \"num_unique_values\": 8278,\n        \"samples\": [\n          \"72669309l6850se1ece43d1cuf20a6h\",\n          \"b9ff4642xcue1ec67eef7zco0d5c7b91\",\n          \"f5a5a334ucge1ec67eefbwcv54b66d15\"\n        ],\n        \"semantic_type\": \"\",\n        \"description\": \"\"\n      }\n    },\n    {\n      \"column\": \"Call Status\",\n      \"properties\": {\n        \"dtype\": \"category\",\n        \"num_unique_values\": 4,\n        \"samples\": [\n          \"completed\",\n          \"in-progress\",\n          \"no-answer\"\n        ],\n        \"semantic_type\": \"\",\n        \"description\": \"\"\n      }\n    },\n    {\n      \"column\": \"Lead Status\",\n      \"properties\": {\n        \"dtype\": \"category\",\n        \"num_unique_values\": 22,\n        \"samples\": [\n          \"Not Interested\",\n          \"Hung-up\",\n          \"Already Bought\"\n        ],\n        \"semantic_type\": \"\",\n        \"description\": \"\"\n      }\n    },\n    {\n      \"column\": \"Agent Duration(seconds)\",\n      \"properties\": {\n        \"dtype\": \"number\",\n        \"std\": 26,\n        \"min\": 0,\n        \"max\": 495,\n        \"num_unique_values\": 227,\n        \"samples\": [\n          40,\n          154,\n          43\n        ],\n        \"semantic_type\": \"\",\n        \"description\": \"\"\n      }\n    },\n    {\n      \"column\": \"Customer Duration(seconds)\",\n      \"properties\": {\n        \"dtype\": \"number\",\n        \"std\": 25,\n        \"min\": 0,\n        \"max\": 476,\n        \"num_unique_values\": 203,\n        \"samples\": [\n          29,\n          30,\n          82\n        ],\n        \"semantic_type\": \"\",\n        \"description\": \"\"\n      }\n    },\n    {\n      \"column\": \"From Calling Number\",\n      \"properties\": {\n        \"dtype\": \"number\",\n        \"std\": 3.0197665610769415,\n        \"min\": 918657026623.0,\n        \"max\": 918657026632.0,\n        \"num_unique_values\": 10,\n        \"samples\": [\n          918657026626.0,\n          918657026625.0,\n          918657026627.0\n        ],\n        \"semantic_type\": \"\",\n        \"description\": \"\"\n      }\n    },\n    {\n      \"column\": \"To Calling Number\",\n      \"properties\": {\n        \"dtype\": \"category\",\n        \"num_unique_values\": 6978,\n        \"samples\": [\n          \"9652436519\",\n          \"9303393349\",\n          \"7981250808\"\n        ],\n        \"semantic_type\": \"\",\n        \"description\": \"\"\n      }\n    },\n    {\n      \"column\": \"Attempt No\",\n      \"properties\": {\n        \"dtype\": \"number\",\n        \"std\": 1,\n        \"min\": 1,\n        \"max\": 11,\n        \"num_unique_values\": 11,\n        \"samples\": [\n          6,\n          1,\n          10\n        ],\n        \"semantic_type\": \"\",\n        \"description\": \"\"\n      }\n    },\n    {\n      \"column\": \"Created At\",\n      \"properties\": {\n        \"dtype\": \"object\",\n        \"num_unique_values\": 24028,\n        \"samples\": [\n          \"2024-04-25 13:23:30\",\n          \"2024-05-11 12:28:15\",\n          \"2024-04-05 14:04:01\"\n        ],\n        \"semantic_type\": \"\",\n        \"description\": \"\"\n      }\n    },\n    {\n      \"column\": \"Updated At\",\n      \"properties\": {\n        \"dtype\": \"object\",\n        \"num_unique_values\": 24019,\n        \"samples\": [\n          \"2024-04-05 15:09:06\",\n          \"2024-04-16 12:04:20\",\n          \"2024-05-10 13:00:04\"\n        ],\n        \"semantic_type\": \"\",\n        \"description\": \"\"\n      }\n    },\n    {\n      \"column\": \"Agent Id\",\n      \"properties\": {\n        \"dtype\": \"number\",\n        \"std\": 80,\n        \"min\": 1,\n        \"max\": 2804,\n        \"num_unique_values\": 23,\n        \"samples\": [\n          2793,\n          2798,\n          2728\n        ],\n        \"semantic_type\": \"\",\n        \"description\": \"\"\n      }\n    },\n    {\n      \"column\": \"Agent Name\",\n      \"properties\": {\n        \"dtype\": \"category\",\n        \"num_unique_values\": 23,\n        \"samples\": [\n          \"Shwetha\",\n          \"ATHARV GAWADE\",\n          \"Mansi Jaiswal\"\n        ],\n        \"semantic_type\": \"\",\n        \"description\": \"\"\n      }\n    },\n    {\n      \"column\": \"Date\",\n      \"properties\": {\n        \"dtype\": \"date\",\n        \"min\": \"2023-01-01 00:00:00\",\n        \"max\": \"2023-01-01 00:00:00\",\n        \"num_unique_values\": 1,\n        \"samples\": [\n          \"2023-01-01 00:00:00\"\n        ],\n        \"semantic_type\": \"\",\n        \"description\": \"\"\n      }\n    }\n  ]\n}"
            }
          },
          "metadata": {},
          "execution_count": 65
        }
      ]
    }
  ]
}