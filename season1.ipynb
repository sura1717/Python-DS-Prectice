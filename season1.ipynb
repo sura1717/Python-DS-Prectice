{
  "nbformat": 4,
  "nbformat_minor": 0,
  "metadata": {
    "colab": {
      "provenance": []
    },
    "kernelspec": {
      "name": "python3",
      "display_name": "Python 3"
    },
    "language_info": {
      "name": "python"
    }
  },
  "cells": [
    {
      "cell_type": "code",
      "execution_count": null,
      "metadata": {
        "id": "HavcRLwTggS1"
      },
      "outputs": [],
      "source": []
    },
    {
      "cell_type": "markdown",
      "source": [
        "# ***Task : Session 1***"
      ],
      "metadata": {
        "id": "aBrfNd2Ign92"
      }
    },
    {
      "cell_type": "markdown",
      "source": [
        "Solve these questions own your own and try to test yourself what you have learned in the session.\n",
        "\n",
        "Happy Learning!"
      ],
      "metadata": {
        "id": "_AbQfVwCgoHm"
      }
    },
    {
      "cell_type": "markdown",
      "source": [
        "\n",
        "**Q1 :- Print the given strings as per stated format**"
      ],
      "metadata": {
        "id": "eK2Y6U6fhn0f"
      }
    },
    {
      "cell_type": "code",
      "source": [
        "#given string\n",
        "\"Data\" \"science\" \"mantorship\" \"program\"\n",
        "\"By\" \"campus\" \"X\""
      ],
      "metadata": {
        "colab": {
          "base_uri": "https://localhost:8080/",
          "height": 36
        },
        "id": "0pCcAfcfgo79",
        "outputId": "0dcffbd9-d3b3-4636-91bb-e0ebdc94ce81"
      },
      "execution_count": 3,
      "outputs": [
        {
          "output_type": "execute_result",
          "data": {
            "text/plain": [
              "'BycampusX'"
            ],
            "application/vnd.google.colaboratory.intrinsic+json": {
              "type": "string"
            }
          },
          "metadata": {},
          "execution_count": 3
        }
      ]
    },
    {
      "cell_type": "code",
      "source": [
        "Data-Science-Mentorship-Program-started-By-CampusX"
      ],
      "metadata": {
        "colab": {
          "base_uri": "https://localhost:8080/",
          "height": 144
        },
        "id": "vcE85Hach-vf",
        "outputId": "328f7cd9-a045-481f-de12-f57a505e7411"
      },
      "execution_count": 4,
      "outputs": [
        {
          "output_type": "error",
          "ename": "NameError",
          "evalue": "name 'Data' is not defined",
          "traceback": [
            "\u001b[0;31m---------------------------------------------------------------------------\u001b[0m",
            "\u001b[0;31mNameError\u001b[0m                                 Traceback (most recent call last)",
            "\u001b[0;32m<ipython-input-4-9a72ad682b62>\u001b[0m in \u001b[0;36m<cell line: 1>\u001b[0;34m()\u001b[0m\n\u001b[0;32m----> 1\u001b[0;31m \u001b[0mData\u001b[0m\u001b[0;34m-\u001b[0m\u001b[0mScience\u001b[0m\u001b[0;34m-\u001b[0m\u001b[0mMentorship\u001b[0m\u001b[0;34m-\u001b[0m\u001b[0mProgram\u001b[0m\u001b[0;34m-\u001b[0m\u001b[0mstarted\u001b[0m\u001b[0;34m-\u001b[0m\u001b[0mBy\u001b[0m\u001b[0;34m-\u001b[0m\u001b[0mCampusX\u001b[0m\u001b[0;34m\u001b[0m\u001b[0;34m\u001b[0m\u001b[0m\n\u001b[0m",
            "\u001b[0;31mNameError\u001b[0m: name 'Data' is not defined"
          ]
        }
      ]
    },
    {
      "cell_type": "code",
      "source": [
        "#concept --> [Seperator and end]\n",
        "print(\"Data\",\"Science\",\"Mentorship\",\"Program\",end=\"-started-\",sep=\"-\")\n",
        "print(\"By\",\"CampusX\",sep=\"-\")"
      ],
      "metadata": {
        "colab": {
          "base_uri": "https://localhost:8080/"
        },
        "id": "_PfSKDK2hz_c",
        "outputId": "7258220c-10d5-45ee-a583-45d9ff8add1f"
      },
      "execution_count": 7,
      "outputs": [
        {
          "output_type": "stream",
          "name": "stdout",
          "text": [
            "Data-Science-Mentorship-Program-started-By-CampusX\n"
          ]
        }
      ]
    },
    {
      "cell_type": "markdown",
      "source": [
        "### Q2. WAP that will be convert celcious value into farenheite\n"
      ],
      "metadata": {
        "id": "BTUdDfvOiriS"
      }
    },
    {
      "cell_type": "code",
      "source": [
        "c=float(input(\"enter temperature in celcious: \"))\n",
        "ans=((9/5)*c)+32\n",
        "ans"
      ],
      "metadata": {
        "colab": {
          "base_uri": "https://localhost:8080/"
        },
        "id": "6Illhjh7i9uc",
        "outputId": "73e606f4-ed4f-4f7b-9635-a608ee6a3949"
      },
      "execution_count": 10,
      "outputs": [
        {
          "name": "stdout",
          "output_type": "stream",
          "text": [
            "enter temperature in celcious: 55\n"
          ]
        },
        {
          "output_type": "execute_result",
          "data": {
            "text/plain": [
              "131.0"
            ]
          },
          "metadata": {},
          "execution_count": 10
        }
      ]
    },
    {
      "cell_type": "markdown",
      "source": [
        "##Q3. Take two numbers as input from the user . WAP to swap the number without using any special python syntax"
      ],
      "metadata": {
        "id": "ARZh8EKYi_33"
      }
    },
    {
      "cell_type": "code",
      "source": [
        "import math\n",
        "a=int(input(\"enter first number: \"))\n",
        "b=int(input(\"enter second number: \"))\n",
        "a,b=b,a\n",
        "print(\"a = \",a)\n",
        "print(\"b = \",b)"
      ],
      "metadata": {
        "colab": {
          "base_uri": "https://localhost:8080/"
        },
        "id": "TS5onsXMkS7o",
        "outputId": "5fe39413-e70c-4b8f-b31c-b897b7b990fe"
      },
      "execution_count": 5,
      "outputs": [
        {
          "output_type": "stream",
          "name": "stdout",
          "text": [
            "enter first number: 5\n",
            "enter second number: 6\n",
            "a =  6\n",
            "b =  5\n"
          ]
        }
      ]
    },
    {
      "cell_type": "markdown",
      "source": [
        "###Q4:- Write a program to find the euclidean distance between two coordinates.Take both the coordinates from the user as input."
      ],
      "metadata": {
        "id": "Bj1No1Uyjdj3"
      }
    },
    {
      "cell_type": "code",
      "source": [
        "x1,y1=map(int, input(\"enter first cordinate: \").split())\n",
        "x2,y2=map(int, input(\"enter second cordinate: \").split())\n",
        "dis = (x2-x1)*2 + (y2-y1)*2\n",
        "dis"
      ],
      "metadata": {
        "colab": {
          "base_uri": "https://localhost:8080/"
        },
        "id": "AF13IdxakU6d",
        "outputId": "a5f55e15-ecf5-46e4-eab8-78524df16fdf"
      },
      "execution_count": 11,
      "outputs": [
        {
          "name": "stdout",
          "output_type": "stream",
          "text": [
            "enter first cordinate: 4 6\n",
            "enter second cordinate: 5 7\n"
          ]
        },
        {
          "output_type": "execute_result",
          "data": {
            "text/plain": [
              "4"
            ]
          },
          "metadata": {},
          "execution_count": 11
        }
      ]
    },
    {
      "cell_type": "markdown",
      "source": [
        "###Q5:- Write a program to find the simple interest when the value of principle,rate of interest and time period is provided by the user.\n",
        "Hint - si = (p * t * r)/100"
      ],
      "metadata": {
        "id": "pRLd9Y5zjl_-"
      }
    },
    {
      "cell_type": "code",
      "source": [
        "p = int(input(\"enter principal value: \"))\n",
        "r = int(input(\"enter intrest rate: \"))\n",
        "t = int(input(\"enter time period: \"))\n",
        "print(\"simple intrest is \", (p*t*r)/100)"
      ],
      "metadata": {
        "colab": {
          "base_uri": "https://localhost:8080/"
        },
        "id": "zhkk_dWGkWET",
        "outputId": "c548c45d-a0a0-44fc-b91d-0429fdd550bc"
      },
      "execution_count": 12,
      "outputs": [
        {
          "output_type": "stream",
          "name": "stdout",
          "text": [
            "enter principal value: 10000\n",
            "enter intrest rate: 5\n",
            "enter time period: 6\n",
            "simple intrest is  3000.0\n"
          ]
        }
      ]
    },
    {
      "cell_type": "markdown",
      "source": [
        "###Q6:- Write a program that will tell the number of dogs and chicken are there when the user will provide the value of total heads and legs.\n",
        "For example: Input: heads -> 4 legs -> 12\n",
        "Output: dogs -> 2 chicken -> 2"
      ],
      "metadata": {
        "id": "N5tx7tLsjtCu"
      }
    },
    {
      "cell_type": "code",
      "source": [
        "heads=int(input(\"enter number of heads: \"))\n",
        "legs = int(input(\"enter number of legs: \"))\n",
        "for i in range(heads):\n",
        ""
      ],
      "metadata": {
        "id": "qbL8jQZWkWyf"
      },
      "execution_count": null,
      "outputs": []
    },
    {
      "cell_type": "markdown",
      "source": [
        "###Q7:- Write a program to find the sum of squares of first n natural numbers where n will be provided by the user.\n",
        "Hint - Thus, the sum of the squares of first n natural numbers = n(n+1)(2n+1)/6"
      ],
      "metadata": {
        "id": "yLsbEOYbj3--"
      }
    },
    {
      "cell_type": "code",
      "source": [
        "n=int(input(\"enter number: \"))\n",
        "sum=n*((n+1)*(2*n+1))/6\n",
        "sum"
      ],
      "metadata": {
        "colab": {
          "base_uri": "https://localhost:8080/"
        },
        "id": "qD7-4GLUkXZP",
        "outputId": "0d18e4da-0b94-49cc-94b0-4e74b9cd5ef5"
      },
      "execution_count": 14,
      "outputs": [
        {
          "name": "stdout",
          "output_type": "stream",
          "text": [
            "enter number: 5\n"
          ]
        },
        {
          "output_type": "execute_result",
          "data": {
            "text/plain": [
              "55.0"
            ]
          },
          "metadata": {},
          "execution_count": 14
        }
      ]
    },
    {
      "cell_type": "markdown",
      "source": [
        "###Q8:- Given the first 2 terms of an Arithmetic Series.Find the Nth term of the series. Assume all inputs are provided by the user.\n",
        "Hint - an = a + (n – 1)d"
      ],
      "metadata": {
        "id": "mjZqTbatj53i"
      }
    },
    {
      "cell_type": "code",
      "source": [
        "a=int(input(\"enter first term: \"))\n",
        "d=int(input(\"enter diffrence b/w two number: \"))\n",
        "n=int(input(\"enter number of terms: \"))\n",
        "ans=a+(n-1)*d\n",
        "ans"
      ],
      "metadata": {
        "colab": {
          "base_uri": "https://localhost:8080/"
        },
        "id": "BVDQUzz8kX4N",
        "outputId": "d2d82810-c9b3-4c95-9b95-ff527aa69354"
      },
      "execution_count": 16,
      "outputs": [
        {
          "name": "stdout",
          "output_type": "stream",
          "text": [
            "enter first term: 5\n",
            "enter diffrence b/w two number: 2\n",
            "enter number of terms: 3\n"
          ]
        },
        {
          "output_type": "execute_result",
          "data": {
            "text/plain": [
              "9"
            ]
          },
          "metadata": {},
          "execution_count": 16
        }
      ]
    },
    {
      "cell_type": "code",
      "source": [
        "#another solution is suing itteration\n",
        "a=int(input(\"enter first term: \"))\n",
        "d=int(input(\"enter diffrence b/w two number: \"))\n",
        "n=int(input(\"enter number of terms: \"))\n",
        "ans=a\n",
        "for i in range(n-1):\n",
        "  ans=ans+d\n",
        "ans"
      ],
      "metadata": {
        "colab": {
          "base_uri": "https://localhost:8080/"
        },
        "id": "Jl1c-Yafv-GY",
        "outputId": "1171021e-8ee4-4187-c09a-1928da8b92a8"
      },
      "execution_count": 20,
      "outputs": [
        {
          "name": "stdout",
          "output_type": "stream",
          "text": [
            "enter first term: 5\n",
            "enter diffrence b/w two number: 2\n",
            "enter number of terms: 3\n"
          ]
        },
        {
          "output_type": "execute_result",
          "data": {
            "text/plain": [
              "11"
            ]
          },
          "metadata": {},
          "execution_count": 20
        }
      ]
    },
    {
      "cell_type": "markdown",
      "source": [
        "###Q9:- Given 2 fractions, find the sum of those 2 fractions.Take the numerator and denominator values of the fractions from the user."
      ],
      "metadata": {
        "id": "Tr8ZPDpXj_4G"
      }
    },
    {
      "cell_type": "code",
      "source": [
        "n1,d1=map(int,input(\"enter 1st numerator and dinominator value: \").split())\n",
        "n2,d2=map(int,input(\"enter 2nd numerator and dinominator value: \").split())\n",
        "print(\"sum of those numbers are: \",(n1/d1)+(n2/d2))"
      ],
      "metadata": {
        "colab": {
          "base_uri": "https://localhost:8080/"
        },
        "id": "BresWl5dkYVL",
        "outputId": "4d50834e-0e09-4c06-c573-f632f92a3ddd"
      },
      "execution_count": 22,
      "outputs": [
        {
          "output_type": "stream",
          "name": "stdout",
          "text": [
            "enter 1st numerator and dinominator value: 12 6\n",
            "enter 2nd numerator and dinominator value: 14 7\n",
            "sum of those numbers are:  4.0\n"
          ]
        }
      ]
    },
    {
      "cell_type": "markdown",
      "source": [
        "###Q10:- Given the height, width and breadth of a milk tank, you have to find out how many glasses of milk can be obtained? Assume all the inputs are provided by the user.\n",
        "Input:\n",
        "Dimensions of the milk tank\n",
        "H = 20cm, L = 20cm, B = 20cm\n",
        "\n",
        "Dimensions of the glass\n",
        "h = 3cm, r = 1cm"
      ],
      "metadata": {
        "id": "aXV0Bk6fkEXo"
      }
    },
    {
      "cell_type": "code",
      "source": [
        "import math\n",
        "\n",
        "H=int(input(\"enter height of tank: \"))\n",
        "L=int(input(\"enter length of tank: \"))\n",
        "W=int(input(\"enter width of tank: \"))\n",
        "\n",
        "r=int(input(\"enter redius of glass: \"))\n",
        "h=int(input(\"enter height of glass: \"))\n",
        "\n",
        "glsv=math.pi*r*r*h\n",
        "tkv=L*W*H\n",
        "\n",
        "ans=tkv//glsv\n",
        "ans"
      ],
      "metadata": {
        "colab": {
          "base_uri": "https://localhost:8080/"
        },
        "id": "dy5MzJk4kYru",
        "outputId": "beb2f0c2-58db-4171-dd7c-e1f940f9cc4a"
      },
      "execution_count": 23,
      "outputs": [
        {
          "name": "stdout",
          "output_type": "stream",
          "text": [
            "enter height of tank: 20\n",
            "enter length of tank: 20\n",
            "enter width of tank: 5\n",
            "enter redius of glass: 3\n",
            "enter height of glass: 6\n"
          ]
        },
        {
          "output_type": "execute_result",
          "data": {
            "text/plain": [
              "11.0"
            ]
          },
          "metadata": {},
          "execution_count": 23
        }
      ]
    },
    {
      "cell_type": "markdown",
      "source": [],
      "metadata": {
        "id": "TLmG33U7jwkC"
      }
    },
    {
      "cell_type": "code",
      "source": [],
      "metadata": {
        "id": "SD28FohKkZAa"
      },
      "execution_count": null,
      "outputs": []
    }
  ]
}