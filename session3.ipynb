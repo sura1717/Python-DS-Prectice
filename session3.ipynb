{
  "nbformat": 4,
  "nbformat_minor": 0,
  "metadata": {
    "colab": {
      "provenance": []
    },
    "kernelspec": {
      "name": "python3",
      "display_name": "Python 3"
    },
    "language_info": {
      "name": "python"
    }
  },
  "cells": [
    {
      "cell_type": "code",
      "execution_count": null,
      "metadata": {
        "id": "bDYeERt9rB_X"
      },
      "outputs": [],
      "source": []
    },
    {
      "cell_type": "markdown",
      "source": [
        "### `Problem 1` - Print the following pattern. Write a program to use for loop to print the following reverse number pattern.\n",
        "\n",
        "```bash\n",
        "5 4 3 2 1\n",
        "4 3 2 1\n",
        "3 2 1\n",
        "2 1\n",
        "1\n",
        "```"
      ],
      "metadata": {
        "id": "V-idGRHgrFMK"
      }
    },
    {
      "cell_type": "code",
      "source": [
        "for i in range(5,0,-1):\n",
        "  for j in range(i,0,-1):\n",
        "    print(j,end=\" \")\n",
        "  print()"
      ],
      "metadata": {
        "colab": {
          "base_uri": "https://localhost:8080/"
        },
        "id": "nQDW9iSqHjn_",
        "outputId": "0bcd932c-14b7-4fa7-c187-8f551d694d84"
      },
      "execution_count": 1,
      "outputs": [
        {
          "output_type": "stream",
          "name": "stdout",
          "text": [
            "5 4 3 2 1 \n",
            "4 3 2 1 \n",
            "3 2 1 \n",
            "2 1 \n",
            "1 \n"
          ]
        }
      ]
    },
    {
      "cell_type": "markdown",
      "source": [
        "### `Problem 2`: Print the following pattern.\n",
        "\n",
        "```bash\n",
        "*\n",
        "* *\n",
        "* * *\n",
        "* * * *\n",
        "* * * * *\n",
        "* * * *\n",
        "* * *\n",
        "* *\n",
        "*\n",
        "```"
      ],
      "metadata": {
        "id": "2z9n9g4SrFVa"
      }
    },
    {
      "cell_type": "code",
      "source": [
        "for i in range(1,10):\n",
        "  if i>5:\n",
        "      for k in range(10-i):\n",
        "        print(\"*\",end=\" \")\n",
        "  else:\n",
        "    for k in range(i):\n",
        "        print(\"*\",end=\" \")\n",
        "  print()"
      ],
      "metadata": {
        "colab": {
          "base_uri": "https://localhost:8080/"
        },
        "id": "_KYJQ0bnItlF",
        "outputId": "5cddb360-1722-4c0b-b6b3-ee58c9298a81"
      },
      "execution_count": 9,
      "outputs": [
        {
          "output_type": "stream",
          "name": "stdout",
          "text": [
            "* \n",
            "* * \n",
            "* * * \n",
            "* * * * \n",
            "* * * * * \n",
            "* * * * \n",
            "* * * \n",
            "* * \n",
            "* \n"
          ]
        }
      ]
    },
    {
      "cell_type": "markdown",
      "source": [
        "### `Problem 3`:Write a program to pring the following pattern\n",
        "\n",
        "        *\n",
        "       * *\n",
        "      * * *\n",
        "   * * * * * * *\n",
        "* * * * * * * * *\n"
      ],
      "metadata": {
        "id": "0HAsNc4irFXy"
      }
    },
    {
      "cell_type": "code",
      "source": [
        "row=int(input(\"enter rows: \"))\n",
        "for i in range(1,row+1):\n",
        "  print(\" \"*row,end=\" \")\n",
        "  print(\"* \"*i)\n",
        "  row-=1"
      ],
      "metadata": {
        "colab": {
          "base_uri": "https://localhost:8080/"
        },
        "id": "SG2RqxCdLMth",
        "outputId": "8d8e6fcd-e381-426f-f81e-6d2316bd9161"
      },
      "execution_count": 13,
      "outputs": [
        {
          "output_type": "stream",
          "name": "stdout",
          "text": [
            "enter rows: 6\n",
            "       * \n",
            "      * * \n",
            "     * * * \n",
            "    * * * * \n",
            "   * * * * * \n",
            "  * * * * * * \n"
          ]
        }
      ]
    },
    {
      "cell_type": "markdown",
      "source": [
        "### `Problem 4`:Write a program to print the following pattern\n",
        "\n",
        "1\n",
        "\n",
        "2 1\n",
        "\n",
        "3 2 1\n",
        "\n",
        "4 3 2 1\n",
        "\n",
        "5 4 3 2 1"
      ],
      "metadata": {
        "id": "zW8iCqmyrFaF"
      }
    },
    {
      "cell_type": "code",
      "source": [
        "num = int(input(\"enter number: \"))\n",
        "for i in range(1,num+1):\n",
        "  for j in range(i,0,-1):\n",
        "    print(j,end=\" \")\n",
        "  print()"
      ],
      "metadata": {
        "colab": {
          "base_uri": "https://localhost:8080/"
        },
        "id": "jk7Y394pMbdK",
        "outputId": "80f8b2a5-b6d2-4d00-e79c-a61f8618cddb"
      },
      "execution_count": 15,
      "outputs": [
        {
          "output_type": "stream",
          "name": "stdout",
          "text": [
            "enter number: 6\n",
            "1 \n",
            "2 1 \n",
            "3 2 1 \n",
            "4 3 2 1 \n",
            "5 4 3 2 1 \n",
            "6 5 4 3 2 1 \n"
          ]
        }
      ]
    },
    {
      "cell_type": "markdown",
      "source": [
        "### `Problem 5`: Write a Python Program to Find the Sum of the Series till the nth term:<br>\n",
        "1 + x^2/2 + x^3/3 + … x^n/n<br>\n",
        "n will be provided by the user"
      ],
      "metadata": {
        "id": "n6dwDMQ5rFcW"
      }
    },
    {
      "cell_type": "code",
      "source": [
        "n = int(input(\"enter number: \"))\n",
        "x = int(input(\"enter value of x: \"))\n",
        "sum=0\n",
        "for i in range(1,n+1):\n",
        "  sum=sum+x**i/i\n",
        "  print(\"x^{}/{} + \".format(i,i),end=\"\")\n",
        "print()\n",
        "print(sum)"
      ],
      "metadata": {
        "colab": {
          "base_uri": "https://localhost:8080/"
        },
        "id": "nVXvqcKdMdBo",
        "outputId": "6e4a72f9-ceb2-497e-f9ef-d5bdaae0cb79"
      },
      "execution_count": 20,
      "outputs": [
        {
          "output_type": "stream",
          "name": "stdout",
          "text": [
            "enter number: 5\n",
            "enter value of x: 10\n",
            "x^1/1 + x^2/2 + x^3/3 + x^4/4 + x^5/5 + \n",
            "22893.333333333332\n"
          ]
        }
      ]
    },
    {
      "cell_type": "markdown",
      "source": [
        "### `Problem 6`: The natural logarithm can be approximated by the following series."
      ],
      "metadata": {
        "id": "aV4EaxwlrFeg"
      }
    },
    {
      "cell_type": "code",
      "source": [],
      "metadata": {
        "id": "i8AM4uySMdfS"
      },
      "execution_count": null,
      "outputs": []
    },
    {
      "cell_type": "markdown",
      "source": [
        "### `Problem 7` - Find the sum of the series upto n terms.\n",
        "Write a program to calculate the sum of series up to n term. For example, if n =5 the series will become 2 + 22 + 222 + 2222 + 22222 = 24690. Take the user input and then calculate. And the output style should match which is given in the example.\n",
        "\n",
        "**Example 1:**\n",
        "\n",
        "`Input:`\n",
        "```bash\n",
        "5\n",
        "```\n",
        "\n",
        "`Output:`\n",
        "\n",
        "```bash\n",
        "2+22+222+2222+22222\n",
        "Sum of above series is: 24690\n",
        "```"
      ],
      "metadata": {
        "id": "UY8P18UNrFgW"
      }
    },
    {
      "cell_type": "code",
      "source": [
        "n = int(input(\"enter number: \"))\n",
        "sum=0\n",
        "for i in range(1,n+1):\n",
        "  newnum=int(\"2\"*i)\n",
        "  print(\"{} +\".format(newnum),end=\" \")\n",
        "  sum=sum+newnum\n",
        "print()\n",
        "print(\"sum of above series is \",sum)"
      ],
      "metadata": {
        "colab": {
          "base_uri": "https://localhost:8080/"
        },
        "id": "4dVSWK6cMd3A",
        "outputId": "572333c8-550a-4e65-a267-a2fbf4ec7930"
      },
      "execution_count": 22,
      "outputs": [
        {
          "output_type": "stream",
          "name": "stdout",
          "text": [
            "enter number: 8\n",
            "2 + 22 + 222 + 2222 + 22222 + 222222 + 2222222 + 22222222 + \n",
            "sum of above series is  24691356\n"
          ]
        }
      ]
    },
    {
      "cell_type": "markdown",
      "source": [
        "###`Problem 8`: Write a program to print all the unique combinations of 1,2,3 and 4\n",
        "\n",
        "`Output`:\n",
        "```\n",
        "1 2 3 4\n",
        "1 2 4 3\n",
        "1 3 2 4\n",
        "1 3 4 2\n",
        "1 4 2 3\n",
        "1 4 3 2\n",
        "2 1 3 4\n",
        "2 1 4 3\n",
        "2 3 1 4\n",
        "2 3 4 1\n",
        "2 4 1 3\n",
        ".\n",
        ".\n",
        "and so on\n",
        "```"
      ],
      "metadata": {
        "id": "o20Gh0D8rFif"
      }
    },
    {
      "cell_type": "code",
      "source": [
        "for i in range(1,5):\n",
        "  for j in range(1,5):\n",
        "    for k in range(1,5):\n",
        "      for l in range(1,5):\n",
        "        print(i,j,k,l)"
      ],
      "metadata": {
        "colab": {
          "base_uri": "https://localhost:8080/"
        },
        "id": "IQ3aIcPDMeOL",
        "outputId": "1b048a80-eeac-463e-9dbd-c79ad7f3625a"
      },
      "execution_count": 24,
      "outputs": [
        {
          "output_type": "stream",
          "name": "stdout",
          "text": [
            "1 1 1 1\n",
            "1 1 1 2\n",
            "1 1 1 3\n",
            "1 1 1 4\n",
            "1 1 2 1\n",
            "1 1 2 2\n",
            "1 1 2 3\n",
            "1 1 2 4\n",
            "1 1 3 1\n",
            "1 1 3 2\n",
            "1 1 3 3\n",
            "1 1 3 4\n",
            "1 1 4 1\n",
            "1 1 4 2\n",
            "1 1 4 3\n",
            "1 1 4 4\n",
            "1 2 1 1\n",
            "1 2 1 2\n",
            "1 2 1 3\n",
            "1 2 1 4\n",
            "1 2 2 1\n",
            "1 2 2 2\n",
            "1 2 2 3\n",
            "1 2 2 4\n",
            "1 2 3 1\n",
            "1 2 3 2\n",
            "1 2 3 3\n",
            "1 2 3 4\n",
            "1 2 4 1\n",
            "1 2 4 2\n",
            "1 2 4 3\n",
            "1 2 4 4\n",
            "1 3 1 1\n",
            "1 3 1 2\n",
            "1 3 1 3\n",
            "1 3 1 4\n",
            "1 3 2 1\n",
            "1 3 2 2\n",
            "1 3 2 3\n",
            "1 3 2 4\n",
            "1 3 3 1\n",
            "1 3 3 2\n",
            "1 3 3 3\n",
            "1 3 3 4\n",
            "1 3 4 1\n",
            "1 3 4 2\n",
            "1 3 4 3\n",
            "1 3 4 4\n",
            "1 4 1 1\n",
            "1 4 1 2\n",
            "1 4 1 3\n",
            "1 4 1 4\n",
            "1 4 2 1\n",
            "1 4 2 2\n",
            "1 4 2 3\n",
            "1 4 2 4\n",
            "1 4 3 1\n",
            "1 4 3 2\n",
            "1 4 3 3\n",
            "1 4 3 4\n",
            "1 4 4 1\n",
            "1 4 4 2\n",
            "1 4 4 3\n",
            "1 4 4 4\n",
            "2 1 1 1\n",
            "2 1 1 2\n",
            "2 1 1 3\n",
            "2 1 1 4\n",
            "2 1 2 1\n",
            "2 1 2 2\n",
            "2 1 2 3\n",
            "2 1 2 4\n",
            "2 1 3 1\n",
            "2 1 3 2\n",
            "2 1 3 3\n",
            "2 1 3 4\n",
            "2 1 4 1\n",
            "2 1 4 2\n",
            "2 1 4 3\n",
            "2 1 4 4\n",
            "2 2 1 1\n",
            "2 2 1 2\n",
            "2 2 1 3\n",
            "2 2 1 4\n",
            "2 2 2 1\n",
            "2 2 2 2\n",
            "2 2 2 3\n",
            "2 2 2 4\n",
            "2 2 3 1\n",
            "2 2 3 2\n",
            "2 2 3 3\n",
            "2 2 3 4\n",
            "2 2 4 1\n",
            "2 2 4 2\n",
            "2 2 4 3\n",
            "2 2 4 4\n",
            "2 3 1 1\n",
            "2 3 1 2\n",
            "2 3 1 3\n",
            "2 3 1 4\n",
            "2 3 2 1\n",
            "2 3 2 2\n",
            "2 3 2 3\n",
            "2 3 2 4\n",
            "2 3 3 1\n",
            "2 3 3 2\n",
            "2 3 3 3\n",
            "2 3 3 4\n",
            "2 3 4 1\n",
            "2 3 4 2\n",
            "2 3 4 3\n",
            "2 3 4 4\n",
            "2 4 1 1\n",
            "2 4 1 2\n",
            "2 4 1 3\n",
            "2 4 1 4\n",
            "2 4 2 1\n",
            "2 4 2 2\n",
            "2 4 2 3\n",
            "2 4 2 4\n",
            "2 4 3 1\n",
            "2 4 3 2\n",
            "2 4 3 3\n",
            "2 4 3 4\n",
            "2 4 4 1\n",
            "2 4 4 2\n",
            "2 4 4 3\n",
            "2 4 4 4\n",
            "3 1 1 1\n",
            "3 1 1 2\n",
            "3 1 1 3\n",
            "3 1 1 4\n",
            "3 1 2 1\n",
            "3 1 2 2\n",
            "3 1 2 3\n",
            "3 1 2 4\n",
            "3 1 3 1\n",
            "3 1 3 2\n",
            "3 1 3 3\n",
            "3 1 3 4\n",
            "3 1 4 1\n",
            "3 1 4 2\n",
            "3 1 4 3\n",
            "3 1 4 4\n",
            "3 2 1 1\n",
            "3 2 1 2\n",
            "3 2 1 3\n",
            "3 2 1 4\n",
            "3 2 2 1\n",
            "3 2 2 2\n",
            "3 2 2 3\n",
            "3 2 2 4\n",
            "3 2 3 1\n",
            "3 2 3 2\n",
            "3 2 3 3\n",
            "3 2 3 4\n",
            "3 2 4 1\n",
            "3 2 4 2\n",
            "3 2 4 3\n",
            "3 2 4 4\n",
            "3 3 1 1\n",
            "3 3 1 2\n",
            "3 3 1 3\n",
            "3 3 1 4\n",
            "3 3 2 1\n",
            "3 3 2 2\n",
            "3 3 2 3\n",
            "3 3 2 4\n",
            "3 3 3 1\n",
            "3 3 3 2\n",
            "3 3 3 3\n",
            "3 3 3 4\n",
            "3 3 4 1\n",
            "3 3 4 2\n",
            "3 3 4 3\n",
            "3 3 4 4\n",
            "3 4 1 1\n",
            "3 4 1 2\n",
            "3 4 1 3\n",
            "3 4 1 4\n",
            "3 4 2 1\n",
            "3 4 2 2\n",
            "3 4 2 3\n",
            "3 4 2 4\n",
            "3 4 3 1\n",
            "3 4 3 2\n",
            "3 4 3 3\n",
            "3 4 3 4\n",
            "3 4 4 1\n",
            "3 4 4 2\n",
            "3 4 4 3\n",
            "3 4 4 4\n",
            "4 1 1 1\n",
            "4 1 1 2\n",
            "4 1 1 3\n",
            "4 1 1 4\n",
            "4 1 2 1\n",
            "4 1 2 2\n",
            "4 1 2 3\n",
            "4 1 2 4\n",
            "4 1 3 1\n",
            "4 1 3 2\n",
            "4 1 3 3\n",
            "4 1 3 4\n",
            "4 1 4 1\n",
            "4 1 4 2\n",
            "4 1 4 3\n",
            "4 1 4 4\n",
            "4 2 1 1\n",
            "4 2 1 2\n",
            "4 2 1 3\n",
            "4 2 1 4\n",
            "4 2 2 1\n",
            "4 2 2 2\n",
            "4 2 2 3\n",
            "4 2 2 4\n",
            "4 2 3 1\n",
            "4 2 3 2\n",
            "4 2 3 3\n",
            "4 2 3 4\n",
            "4 2 4 1\n",
            "4 2 4 2\n",
            "4 2 4 3\n",
            "4 2 4 4\n",
            "4 3 1 1\n",
            "4 3 1 2\n",
            "4 3 1 3\n",
            "4 3 1 4\n",
            "4 3 2 1\n",
            "4 3 2 2\n",
            "4 3 2 3\n",
            "4 3 2 4\n",
            "4 3 3 1\n",
            "4 3 3 2\n",
            "4 3 3 3\n",
            "4 3 3 4\n",
            "4 3 4 1\n",
            "4 3 4 2\n",
            "4 3 4 3\n",
            "4 3 4 4\n",
            "4 4 1 1\n",
            "4 4 1 2\n",
            "4 4 1 3\n",
            "4 4 1 4\n",
            "4 4 2 1\n",
            "4 4 2 2\n",
            "4 4 2 3\n",
            "4 4 2 4\n",
            "4 4 3 1\n",
            "4 4 3 2\n",
            "4 4 3 3\n",
            "4 4 3 4\n",
            "4 4 4 1\n",
            "4 4 4 2\n",
            "4 4 4 3\n",
            "4 4 4 4\n"
          ]
        }
      ]
    },
    {
      "cell_type": "markdown",
      "source": [
        "###`Problem 9`: Write a program that will take a decimal number as input and prints out the binary equivalent of the number"
      ],
      "metadata": {
        "id": "rRiJF6VssPTN"
      }
    },
    {
      "cell_type": "code",
      "source": [
        "n = int(input(\"enter decimal number: \"))\n",
        "bin=\"\"\n",
        "while(n>0):\n",
        "  bin+=str(n%2)\n",
        "  n=n//2\n",
        "print(bin[::-1])"
      ],
      "metadata": {
        "colab": {
          "base_uri": "https://localhost:8080/"
        },
        "id": "UBoNuYBZMeng",
        "outputId": "70e99b0d-4361-4089-d026-7bed8f5be4b3"
      },
      "execution_count": 42,
      "outputs": [
        {
          "output_type": "stream",
          "name": "stdout",
          "text": [
            "enter decimal number: 10\n",
            "1010\n"
          ]
        }
      ]
    },
    {
      "cell_type": "markdown",
      "source": [
        "###`Problem 10`: Write a program that will take 2 numbers as input and prints the LCM and HCF of those 2 numbers\n"
      ],
      "metadata": {
        "id": "BY6D75q6sPWh"
      }
    },
    {
      "cell_type": "code",
      "source": [],
      "metadata": {
        "id": "0K-aO5bCMe7A"
      },
      "execution_count": null,
      "outputs": []
    },
    {
      "cell_type": "markdown",
      "source": [
        "### **Problem 11:** Create Short Form from initial character\n",
        "Given a string create short form ofthe string from Initial character. Short form should be capitalised.\n",
        "\n",
        "Example:\n",
        "\n",
        "`Input:`\n",
        "```\n",
        "Data science mentorship program\n",
        "```\n",
        "\n",
        "`Output:`\n",
        "```\n",
        "DSMP\n",
        "```"
      ],
      "metadata": {
        "id": "BwP2YKtnsPaC"
      }
    },
    {
      "cell_type": "code",
      "source": [
        "s=input(\"enter string: \").split()\n",
        "new=\"\"\n",
        "for i in s:\n",
        "  new+=i[0].upper()\n",
        "print(new)"
      ],
      "metadata": {
        "colab": {
          "base_uri": "https://localhost:8080/"
        },
        "id": "K3ZZycZSMfPV",
        "outputId": "4b212246-27e7-49f3-930f-4c8dab067ff1"
      },
      "execution_count": 1,
      "outputs": [
        {
          "output_type": "stream",
          "name": "stdout",
          "text": [
            "enter string: Data science mentorship program\n",
            "DSMP\n"
          ]
        }
      ]
    },
    {
      "cell_type": "markdown",
      "source": [
        "###`Problem 12`: Append second string in the middle of first string\n",
        "\n",
        "`Input:`\n",
        "```\n",
        "campusx\n",
        "data\n",
        "```\n",
        "`Output`:\n",
        "\n",
        "```\n",
        "camdatapusx\n",
        "```"
      ],
      "metadata": {
        "id": "fobeiyzisPje"
      }
    },
    {
      "cell_type": "code",
      "source": [
        "a=input(\"enter first string: \")\n",
        "b=input(\"enter second string: \")\n",
        "m=len(a)//2\n",
        "newstr=a[:m]+b+a[m:]\n",
        "print(newstr)"
      ],
      "metadata": {
        "colab": {
          "base_uri": "https://localhost:8080/"
        },
        "id": "KbZGXZZnMfjh",
        "outputId": "20072525-7c14-4328-ba03-0ed0c01eb5c7"
      },
      "execution_count": 2,
      "outputs": [
        {
          "output_type": "stream",
          "name": "stdout",
          "text": [
            "enter first string: campusx\n",
            "enter second string: data\n",
            "camdatapusx\n"
          ]
        }
      ]
    },
    {
      "cell_type": "markdown",
      "source": [
        "### ``Problem 13``:Given string contains a combination of the lower and upper case letters. Write a program to arrange the characters of a string so that all lowercase letters should come first.\n",
        "\n",
        "Given:\n",
        "\n",
        "`str1 = PyNaTive`\n",
        "\n",
        "Expected Output:\n",
        "\n",
        "`yaivePNT`"
      ],
      "metadata": {
        "id": "m2mQ9LULshVI"
      }
    },
    {
      "cell_type": "code",
      "source": [
        "st=input(\"enter string: \")\n",
        "upper=\"\"\n",
        "newstr=\"\"\n",
        "for i in st:\n",
        "  if i.isupper():\n",
        "    upper+=i\n",
        "  else:\n",
        "    newstr+=i\n",
        "print(newstr+upper)"
      ],
      "metadata": {
        "colab": {
          "base_uri": "https://localhost:8080/"
        },
        "id": "NczqSwsaMgBy",
        "outputId": "7f8708c0-991c-43d1-8541-0fd793d0c73d"
      },
      "execution_count": 6,
      "outputs": [
        {
          "output_type": "stream",
          "name": "stdout",
          "text": [
            "enter string: SuRajKushWAha\n",
            "uajushhaSRKWA\n"
          ]
        }
      ]
    },
    {
      "cell_type": "markdown",
      "source": [
        "### `Problem 14:`Take a alphanumeric string input and print the sum and average of the digits that appear in the string, ignoring all other characters.\n",
        "\n",
        "Input:\n",
        "\n",
        "`hel123O4every093`\n",
        "\n",
        "Output:\n",
        "\n",
        "```\n",
        "Sum: 22\n",
        "Avg: 2.75\n",
        "```"
      ],
      "metadata": {
        "id": "pscBI_5mshXu"
      }
    },
    {
      "cell_type": "code",
      "source": [
        "data=input(\"enter alphanumeric value: \")\n",
        "sum=0\n",
        "count=0\n",
        "for i in data:\n",
        "  if i.isnumeric():\n",
        "    count+=1\n",
        "    sum=sum+int(i)\n",
        "\n",
        "print(\"sum is \",sum)\n",
        "print(\"average is \",sum/count)"
      ],
      "metadata": {
        "colab": {
          "base_uri": "https://localhost:8080/"
        },
        "id": "PRSATzDH6s9i",
        "outputId": "b5f8dd35-8393-4245-d7ec-aebab81c47c5"
      },
      "execution_count": 12,
      "outputs": [
        {
          "output_type": "stream",
          "name": "stdout",
          "text": [
            "enter alphanumeric value: hel123O4every093\n",
            "sum is  22\n",
            "average is  3.142857142857143\n"
          ]
        }
      ]
    },
    {
      "cell_type": "markdown",
      "source": [
        "### `Problem 15:` Removal of all characters from a string except integers\n",
        "`Given:`\n",
        "\n",
        "```\n",
        "str1 = 'I am 25 years and 10 months old'\n",
        "```\n",
        "`Expected Output:`\n",
        "```\n",
        "2510\n",
        "```"
      ],
      "metadata": {
        "id": "4l0tZBeeshbM"
      }
    },
    {
      "cell_type": "code",
      "source": [
        "str1=input(\"enter string: \")\n",
        "newnum=\"\"\n",
        "for i in str1:\n",
        "  if i.isnumeric():\n",
        "    newnum+=i\n",
        "print(newnum)"
      ],
      "metadata": {
        "colab": {
          "base_uri": "https://localhost:8080/"
        },
        "id": "KpbWH06Q8RA8",
        "outputId": "52a9cb38-781c-436d-c0b6-d2e9cccfa5d0"
      },
      "execution_count": 13,
      "outputs": [
        {
          "output_type": "stream",
          "name": "stdout",
          "text": [
            "enter string: I am 25 years and 10 months old\n",
            "2510\n"
          ]
        }
      ]
    },
    {
      "cell_type": "markdown",
      "source": [
        "### `Problem 16`: Check whether the string is Symmetrical.\n",
        "\n",
        "**Statement:** Given a string. the task is to check if the string is symmetrical or not. A string is said to be symmetrical if both the halves of the string are the same.\n",
        "\n",
        "**Example 1:**\n",
        "\n",
        "`Input`\n",
        "\n",
        "```bash\n",
        "khokho\n",
        "```\n",
        "\n",
        "`Output`\n",
        "\n",
        "```bash\n",
        "The entered string is symmetrical\n",
        "```"
      ],
      "metadata": {
        "id": "7BRDXlCLsvWO"
      }
    },
    {
      "cell_type": "code",
      "source": [
        "str1=input(\"enter string: \")\n",
        "m=len(str1)//2\n",
        "if str1[:m]==str1[m:]:\n",
        "  print(\"given string is symetrical\")\n",
        "else:\n",
        "  print(\"given string is not symetrical\")"
      ],
      "metadata": {
        "colab": {
          "base_uri": "https://localhost:8080/"
        },
        "id": "PJ1Jgng_-0Uy",
        "outputId": "733e0f9e-8b7c-4ebe-f4c5-222f3c1f2318"
      },
      "execution_count": 17,
      "outputs": [
        {
          "output_type": "stream",
          "name": "stdout",
          "text": [
            "enter string: khokho\n",
            "given string is symetrical\n"
          ]
        }
      ]
    },
    {
      "cell_type": "markdown",
      "source": [
        "### `Problem 17`: Reverse words in a given String\n",
        "\n",
        "**Statement:** We are given a string and we need to reverse words of a given string.\n",
        "\n",
        "**Example 1:**\n",
        "\n",
        "`Input:`\n",
        "\n",
        "```bash\n",
        "geeks quiz practice code\n",
        "```\n",
        "\n",
        "`Output:`\n",
        "\n",
        "```bash\n",
        "code practice quiz geeks\n",
        "```\n",
        "\n",
        "**Example 2:**\n",
        "\n",
        "`Input:`\n",
        "\n",
        "```bash\n",
        "my name is laxmi\n",
        "```\n",
        "\n",
        "`Output:`\n",
        "\n",
        "```bash\n",
        "laxmi is name my\n",
        "```"
      ],
      "metadata": {
        "id": "-Fwtb2eMsvYt"
      }
    },
    {
      "cell_type": "code",
      "source": [
        "x=input(\"enter string: \").split()\n",
        "for i in x[::-1]:\n",
        "  print(i,end=\" \")"
      ],
      "metadata": {
        "colab": {
          "base_uri": "https://localhost:8080/"
        },
        "id": "G5xm3h4AEHjx",
        "outputId": "65e322ff-556b-42df-a420-3f54115f4c5b"
      },
      "execution_count": 19,
      "outputs": [
        {
          "output_type": "stream",
          "name": "stdout",
          "text": [
            "enter string: my name is suraj\n",
            "suraj is name my "
          ]
        }
      ]
    },
    {
      "cell_type": "markdown",
      "source": [],
      "metadata": {
        "id": "H4XH9kpxsvbS"
      }
    },
    {
      "cell_type": "markdown",
      "source": [],
      "metadata": {
        "id": "sCPZLYXqsveG"
      }
    },
    {
      "cell_type": "markdown",
      "source": [
        "### `Problem 18`: Find uncommon words from two Strings.\n",
        "\n",
        "**Statement:** Given two sentences as strings **A** and **B**. The task is to return a list of all uncommon words. A word is uncommon if it appears exactly once in any one of the sentences, and does not appear in the other sentence. Note: A sentence is a string of space-separated words. Each word consists only of lowercase letters.\n",
        "\n",
        "**Example 1:**\n",
        "\n",
        "`Input:`\n",
        "\n",
        "```bash\n",
        "A = \"apple banana mango\"\n",
        "B = \"banana fruits mango\"\n",
        "```\n",
        "\n",
        "`Output:`\n",
        "\n",
        "```bash\n",
        "['apple', 'fruits']\n",
        "```"
      ],
      "metadata": {
        "id": "eKuaWbwZsvg_"
      }
    },
    {
      "cell_type": "code",
      "source": [
        "str1=input(\"enter string 1: \").split()\n",
        "str2=input(\"enter string 2: \").split()\n",
        "newlist=[]\n",
        "for i in str1:\n",
        "  if i not in str2:\n",
        "    newlist.append(i)\n",
        "for i in str2:\n",
        "  if i not in str1:\n",
        "    newlist.append(i)\n",
        "print(newlist)"
      ],
      "metadata": {
        "colab": {
          "base_uri": "https://localhost:8080/"
        },
        "id": "wkPqQSzSEJJU",
        "outputId": "0d4b3bb2-781f-4146-a6e3-2696f59f3147"
      },
      "execution_count": 22,
      "outputs": [
        {
          "output_type": "stream",
          "name": "stdout",
          "text": [
            "enter string 1: banana mango apple\n",
            "enter string 2: fruit banana apple\n",
            "['mango', 'fruit']\n"
          ]
        }
      ]
    },
    {
      "cell_type": "markdown",
      "source": [
        "### `Problem 19`: Word location in String.\n",
        "\n",
        "**Statement:** Find a location of a word in a given sentence.\n",
        "\n",
        "**Example 1:**\n",
        "\n",
        "`Input:`\n",
        "\n",
        "```bash\n",
        "Sentence: We can learn data science through campusx mentorship program.\n",
        "\n",
        "word: campusx\n",
        "```\n",
        "\n",
        "`Output:`\n",
        "\n",
        "```bash\n",
        "Location of the word is 7.\n",
        "```\n",
        "\n",
        "Note- Don't use index/find functions"
      ],
      "metadata": {
        "id": "Y7SK9umKsvje"
      }
    },
    {
      "cell_type": "code",
      "source": [
        "sentence=input(\"enter sentance: \").split()\n",
        "word=input(\"enter word\")\n",
        "print(sentence.index(word)+1)"
      ],
      "metadata": {
        "colab": {
          "base_uri": "https://localhost:8080/"
        },
        "id": "lW5Am2QhELf1",
        "outputId": "a2e20fd5-76a1-4870-ca8d-01fff9d9ce62"
      },
      "execution_count": 26,
      "outputs": [
        {
          "output_type": "stream",
          "name": "stdout",
          "text": [
            "enter sentance: suraj is my  name and from bihar\n",
            "enter wordfrom\n",
            "5\n"
          ]
        }
      ]
    },
    {
      "cell_type": "markdown",
      "source": [
        "### `Problem 20`: Write a program that can remove all the duplicate characters from a string. User will provide the input."
      ],
      "metadata": {
        "id": "zEa-XArjsvm2"
      }
    }
  ]
}