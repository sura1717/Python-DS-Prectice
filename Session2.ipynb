{
  "nbformat": 4,
  "nbformat_minor": 0,
  "metadata": {
    "colab": {
      "provenance": []
    },
    "kernelspec": {
      "name": "python3",
      "display_name": "Python 3"
    },
    "language_info": {
      "name": "python"
    }
  },
  "cells": [
    {
      "cell_type": "code",
      "execution_count": null,
      "metadata": {
        "id": "HhpHt9y4Cuzi"
      },
      "outputs": [],
      "source": []
    },
    {
      "cell_type": "markdown",
      "source": [
        "###Problem 1: Write a program that will give you in hand monthly salary after deduction on CTC - HRA(10%), DA(5%), PF(3%) and taxes deduction as below:\n",
        "Salary(Lakhs) : Tax(%)\n",
        "\n",
        "Below 5 : 0%             \n",
        "5-10 : 10%            \n",
        "10-20 : 20%    \n",
        "aboove 20 : 30%            "
      ],
      "metadata": {
        "id": "DWkOndmBCyr1"
      }
    },
    {
      "cell_type": "code",
      "source": [],
      "metadata": {
        "id": "4TmgEUFoJktp"
      },
      "execution_count": null,
      "outputs": []
    },
    {
      "cell_type": "markdown",
      "source": [
        "###Problem 2: Write a program that take a user input of three angles and will find out whether it can form a triangle or not.\n",
        "Hint - Sum of all angles is 180 and all angles are positive"
      ],
      "metadata": {
        "id": "n0QhmQyuCziV"
      }
    },
    {
      "cell_type": "code",
      "source": [
        "f_a=int(input(\"enter first angle: \"))\n",
        "s_a=int(input(\"enter second angle: \"))\n",
        "t_a=int(input(\"enter third angle: \"))\n",
        "sum_ang=f_a+s_a+t_a\n",
        "if sum_ang==180:\n",
        "  print(\"this is tringle\")\n",
        "else:\n",
        "  print(\"this is not tringle\")"
      ],
      "metadata": {
        "colab": {
          "base_uri": "https://localhost:8080/"
        },
        "id": "8sJna4pqJm1e",
        "outputId": "b38b3bf9-9901-4a62-8d40-5758a47f6418"
      },
      "execution_count": null,
      "outputs": [
        {
          "output_type": "stream",
          "name": "stdout",
          "text": [
            "enter first angle: 50\n",
            "enter second angle: 60\n",
            "enter third angle: 70\n",
            "this is tringle\n"
          ]
        }
      ]
    },
    {
      "cell_type": "markdown",
      "source": [
        "###Problem 3: Write a program that will take user input of cost price and selling price and determines whether its a loss or a profit"
      ],
      "metadata": {
        "id": "vttUNM5nCzk0"
      }
    },
    {
      "cell_type": "code",
      "source": [
        "cp=float(input(\"enter cost price: \"))\n",
        "sp=float(input(\"enter selling price: \"))\n",
        "if cp>sp:\n",
        "  print(\"Loss\")\n",
        "else:\n",
        "  print(\"Profit\")"
      ],
      "metadata": {
        "colab": {
          "base_uri": "https://localhost:8080/"
        },
        "id": "NOqtzZXRJoDr",
        "outputId": "d8208308-9d82-4813-c51a-272ad2f166ad"
      },
      "execution_count": null,
      "outputs": [
        {
          "output_type": "stream",
          "name": "stdout",
          "text": [
            "enter cost price: 120\n",
            "enter selling price: 140\n",
            "Profit\n"
          ]
        }
      ]
    },
    {
      "cell_type": "markdown",
      "source": [],
      "metadata": {
        "id": "f55F8q7MCznS"
      }
    },
    {
      "cell_type": "markdown",
      "source": [],
      "metadata": {
        "id": "bWnNAL_oCzp5"
      }
    },
    {
      "cell_type": "markdown",
      "source": [
        "###Problem 4: Write a menu-driven program -\n",
        "cm to ft\n",
        "km to miles\n",
        "USD to INR\n",
        "exit\n",
        "Hint\n",
        "\n",
        "1 cm = 0.032ft\n",
        "1km = 0.62\n",
        "1 USD = 80 INR"
      ],
      "metadata": {
        "id": "ON_r-ZxzCzsZ"
      }
    },
    {
      "cell_type": "code",
      "source": [
        "\n",
        "menu=input(\"please enter \\n 1. cm to ft \\n 2.kmk to miles \\n3.USD to INR\")\n",
        "if menu==\"1\":\n",
        "  cmv=float(input(\"enter value in cm: \"))\n",
        "  print(\"its feet value is \",cmv*0.032)\n",
        "elif menu==\"2\":\n",
        "  kmv=float(input(\"enter value in km: \"))\n",
        "  print(\"is`s miles valuen is \",kmv*0.62)\n",
        "elif menu == \"3\":\n",
        "  usdv=int(input(\"enter value in USD: \"))\n",
        "  print(\"it`s value in INR is\",usdv*83.38)\n",
        "else:\n",
        "  print(\"wrong input\")"
      ],
      "metadata": {
        "id": "9A2f8KNMJsgK",
        "colab": {
          "base_uri": "https://localhost:8080/"
        },
        "outputId": "74dd45f3-c44c-4e86-985b-98f2e35fe431"
      },
      "execution_count": null,
      "outputs": [
        {
          "output_type": "stream",
          "name": "stdout",
          "text": [
            "please enter \n",
            " 1. cm to ft \n",
            " 2.kmk to miles \n",
            "3.USD to INR3\n",
            "enter value in USD: 4400\n",
            "it`s value in INR is 366872.0\n"
          ]
        }
      ]
    },
    {
      "cell_type": "markdown",
      "source": [
        "###Problem 5 - Exercise 12: Display Fibonacci series up to 10 terms.\n",
        "Note: The Fibonacci Sequence is a series of numbers. The next number is found by adding up the two numbers before it. The first two numbers are 0 and 1. For example, 0, 1, 1, 2, 3, 5, 8, 13, 21. The next number in this series above is 13+21 = 34"
      ],
      "metadata": {
        "id": "3aTIaFH1Czuv"
      }
    },
    {
      "cell_type": "code",
      "source": [
        "#ten terms of febnanci:\n",
        "f=0\n",
        "s=1\n",
        "for i in range(10):\n",
        "  print(f,end=\" - \")\n",
        "  th=f+s\n",
        "  f=s\n",
        "  s=th\n"
      ],
      "metadata": {
        "id": "XPrf5KLdJtcK",
        "colab": {
          "base_uri": "https://localhost:8080/"
        },
        "outputId": "3fe9be2c-ded9-472a-aa5b-b1773c0a6b6e"
      },
      "execution_count": null,
      "outputs": [
        {
          "output_type": "stream",
          "name": "stdout",
          "text": [
            "0 - 1 - 1 - 2 - 3 - 5 - 8 - 13 - 21 - 34 - "
          ]
        }
      ]
    },
    {
      "cell_type": "markdown",
      "source": [
        "###Problem 6 - Find the factorial of a given number.\n",
        "Write a program to use the loop to find the factorial of a given number.\n",
        "\n",
        "The factorial (symbol: !) means to multiply all whole numbers from the chosen number down to 1.\n",
        "\n",
        "For example: calculate the factorial of 5"
      ],
      "metadata": {
        "id": "px_wR0FrCzyT"
      }
    },
    {
      "cell_type": "code",
      "source": [
        "#fectorial of given number\n",
        "def factorial(n):\n",
        "  fact=1\n",
        "  for i in range(2,n+1):\n",
        "    fact*=i\n",
        "  return fact\n",
        "num=int(input(\"enter number: \"))\n",
        "print(\"fectorial is\",factorial(num))"
      ],
      "metadata": {
        "id": "8qLHWd0lJuKQ",
        "colab": {
          "base_uri": "https://localhost:8080/"
        },
        "outputId": "76679eae-9cb4-4e7d-a5af-f101b9a6787b"
      },
      "execution_count": null,
      "outputs": [
        {
          "output_type": "stream",
          "name": "stdout",
          "text": [
            "enter number: 5\n",
            "fectorial is 120\n"
          ]
        }
      ]
    },
    {
      "cell_type": "markdown",
      "source": [],
      "metadata": {
        "id": "3NKGrOPwFbTu"
      }
    },
    {
      "cell_type": "markdown",
      "source": [],
      "metadata": {
        "id": "kBKznusLFbe6"
      }
    },
    {
      "cell_type": "markdown",
      "source": [
        "###Problem 7 - Reverse a given integer number.\n",
        "Example:\n",
        "\n",
        "Input:"
      ],
      "metadata": {
        "id": "0nODBjpTFbnw"
      }
    },
    {
      "cell_type": "code",
      "source": [
        "num=int(input(\"enter number: \"))\n",
        "newnum=\"\"\n",
        "while(num != 0):\n",
        "  newnum+=str(num%10)\n",
        "  num//=10\n",
        "print(int(newnum))"
      ],
      "metadata": {
        "id": "700O-hmcJ9I0",
        "colab": {
          "base_uri": "https://localhost:8080/"
        },
        "outputId": "006c00e4-0e43-472f-cd1d-6b71820ec56b"
      },
      "execution_count": null,
      "outputs": [
        {
          "output_type": "stream",
          "name": "stdout",
          "text": [
            "enter number: 152\n",
            "251\n"
          ]
        }
      ]
    },
    {
      "cell_type": "markdown",
      "source": [
        "###Problem 8: Take a user input as integer N. Find out the sum from 1 to N. If any number if divisible by 5, then skip that number. And if the sum is greater than 300, don't need to calculate the sum further more. Print the final result. And don't use for loop to solve this problem.\n",
        "Example 1"
      ],
      "metadata": {
        "id": "u3akaFIjFnUt"
      }
    },
    {
      "cell_type": "code",
      "source": [
        "def sumofn(num):\n",
        "  i=1\n",
        "  sum=0\n",
        "  while(i<=num):\n",
        "    if i%5==0:\n",
        "      i+=1\n",
        "      continue\n",
        "    elif sum >=300:\n",
        "      return sum\n",
        "    sum=sum+i\n",
        "    i+=1\n",
        "  return sum\n",
        "n=int(input(\"enter number: \"))\n",
        "print(sumofn(n))"
      ],
      "metadata": {
        "id": "1XP_TfdFJ-M4",
        "colab": {
          "base_uri": "https://localhost:8080/"
        },
        "outputId": "c38be892-d6c4-4549-da12-ee61863e63e7"
      },
      "execution_count": null,
      "outputs": [
        {
          "output_type": "stream",
          "name": "stdout",
          "text": [
            "enter number: 6\n",
            "16\n"
          ]
        }
      ]
    },
    {
      "cell_type": "markdown",
      "source": [
        "###Problem 9: Write a program that keeps on accepting a number from the user until the user enters Zero. Display the sum and average of all the numbers."
      ],
      "metadata": {
        "id": "Q5npsNrIFnj0"
      }
    },
    {
      "cell_type": "code",
      "source": [
        "sum=0\n",
        "count=0\n",
        "while(True):\n",
        "  num=int(input(\"enter number: \"))\n",
        "  if num==0:\n",
        "    break\n",
        "  else:\n",
        "    sum+=num\n",
        "    count+=1\n",
        "    print(\"sum is \",sum)\n",
        "    print(\"average is \",sum/count)\n",
        "\n",
        "print(\"! thank you\")"
      ],
      "metadata": {
        "id": "NXyohY5DKC-b",
        "colab": {
          "base_uri": "https://localhost:8080/"
        },
        "outputId": "7f80f319-492b-428c-c440-b4980cc4902a"
      },
      "execution_count": null,
      "outputs": [
        {
          "output_type": "stream",
          "name": "stdout",
          "text": [
            "enter number: 4\n",
            "sum is  4\n",
            "average is  4.0\n",
            "enter number: 6\n",
            "sum is  10\n",
            "average is  5.0\n",
            "enter number: 78\n",
            "sum is  88\n",
            "average is  29.333333333333332\n",
            "enter number: 1\n",
            "sum is  89\n",
            "average is  22.25\n",
            "enter number: 0\n",
            "! thank you\n"
          ]
        }
      ]
    },
    {
      "cell_type": "markdown",
      "source": [
        "###Problem 9: Write a program which will find all such numbers which are divisible by 7 but are not a multiple of 5, between 2000 and 3200 (both included). The numbers obtained should be printed in a comma-separated sequence on a single line."
      ],
      "metadata": {
        "id": "68why3_XFntS"
      }
    },
    {
      "cell_type": "code",
      "source": [
        "i=2000\n",
        "while(i<3200):\n",
        "  if i%7==0 and i%5 != 0:\n",
        "    print(i,end=\",\")\n",
        "    i+=7\n",
        "  else:\n",
        "    i+=1"
      ],
      "metadata": {
        "id": "UHnC9qIwKDei",
        "colab": {
          "base_uri": "https://localhost:8080/"
        },
        "outputId": "467daacf-2d90-4856-8a43-a91dd8a99ba4"
      },
      "execution_count": null,
      "outputs": [
        {
          "output_type": "stream",
          "name": "stdout",
          "text": [
            "2002,2009,2016,2023,2037,2044,2051,2058,2072,2079,2086,2093,2107,2114,2121,2128,2142,2149,2156,2163,2177,2184,2191,2198,2212,2219,2226,2233,2247,2254,2261,2268,2282,2289,2296,2303,2317,2324,2331,2338,2352,2359,2366,2373,2387,2394,2401,2408,2422,2429,2436,2443,2457,2464,2471,2478,2492,2499,2506,2513,2527,2534,2541,2548,2562,2569,2576,2583,2597,2604,2611,2618,2632,2639,2646,2653,2667,2674,2681,2688,2702,2709,2716,2723,2737,2744,2751,2758,2772,2779,2786,2793,2807,2814,2821,2828,2842,2849,2856,2863,2877,2884,2891,2898,2912,2919,2926,2933,2947,2954,2961,2968,2982,2989,2996,3003,3017,3024,3031,3038,3052,3059,3066,3073,3087,3094,3101,3108,3122,3129,3136,3143,3157,3164,3171,3178,3192,3199,"
          ]
        }
      ]
    },
    {
      "cell_type": "markdown",
      "source": [
        "###'problem 11' : A robot moves in a plane starting from the original point (0,0).the robot can move towrd up,down, left and right with a given steps.\n",
        "the trace of robot movement is shown as the following:\n",
        "'''\n",
        "up  5    \n",
        "down 3   \n",
        "left  3     \n",
        "right 2     \n",
        "!\n",
        "'''\n",
        "> the numberts after the direction are steps.\n",
        "> `!` means robot stop there.\n",
        "\n",
        "** please write a program to compute the distance from current position after a sequence of movement and original point.**\n",
        "\n",
        "* if the distance is a float then just print the nearest integer.*\n",
        "`Input`:\n",
        "```\n",
        "up 5     \n",
        "Down 3      \n",
        " left 3         \n",
        " right 2      \n",
        " !\n",
        " ```\n",
        " `output`:\n",
        " ```\n",
        " 2\n",
        " ```"
      ],
      "metadata": {
        "id": "r697AzEIGCGq"
      }
    },
    {
      "cell_type": "code",
      "source": [],
      "metadata": {
        "id": "HiUCaglKKEuJ"
      },
      "execution_count": null,
      "outputs": []
    },
    {
      "cell_type": "markdown",
      "source": [
        "###Problem 12:Write a program to print whether a given number is a prime number or not"
      ],
      "metadata": {
        "id": "W8ww8zFUGCUe"
      }
    },
    {
      "cell_type": "code",
      "source": [
        "n=int(input(\"enter number: \"))\n",
        "i=2\n",
        "while(i<(n//2)):\n",
        "  if n%i==0:\n",
        "    print(\"not prime number\")\n",
        "    break\n",
        "\n",
        "  i+=1\n",
        "if i==n//2:\n",
        "  print(\"prime number\")"
      ],
      "metadata": {
        "id": "BuUFoRnQKGRn",
        "colab": {
          "base_uri": "https://localhost:8080/"
        },
        "outputId": "5b5701cf-9205-4872-926b-9817f01b3829"
      },
      "execution_count": 2,
      "outputs": [
        {
          "output_type": "stream",
          "name": "stdout",
          "text": [
            "enter number: 23\n",
            "prime number\n"
          ]
        }
      ]
    },
    {
      "cell_type": "markdown",
      "source": [
        "###Problem 13:Print all the Armstrong numbers in a given range.\n",
        "Range will be provided by the user\n",
        "Armstrong number is a number that is equal to the sum of cubes of its digits. For example 0, 1, 153, 370, 371 and 407 are the Armstrong numbers"
      ],
      "metadata": {
        "id": "UYD0pAdqGCY5"
      }
    },
    {
      "cell_type": "code",
      "source": [
        "n=int(input(\"enter number: \"))\n",
        "for i in range(2,n+1):\n",
        "  s=len(str(i))\n",
        "  temp=i\n",
        "  sum=0\n",
        "  while(temp>0):\n",
        "    rem=temp%10\n",
        "    sum=sum+(rem**s)\n",
        "    temp=temp//10\n",
        "  if i==sum:\n",
        "    print(sum,end=\"-\")"
      ],
      "metadata": {
        "id": "eoRzoMUCKHAw",
        "colab": {
          "base_uri": "https://localhost:8080/"
        },
        "outputId": "fbbc7b9f-fa20-4027-a651-bb65604399a8"
      },
      "execution_count": 3,
      "outputs": [
        {
          "output_type": "stream",
          "name": "stdout",
          "text": [
            "enter number: 400\n",
            "2-3-4-5-6-7-8-9-153-370-371-"
          ]
        }
      ]
    },
    {
      "cell_type": "markdown",
      "source": [
        "###Problem 14:Calculate the angle between the hour hand and minute hand.\n",
        "Note: There can be two angles between hands; we need to print a minimum of two. Also, we need to print the floor of the final result angle. For example, if the final angle is 10.61, we need to print 10.\n",
        "\n",
        "Input:\n",
        "H = 9 , M = 0\n",
        "Output:\n",
        "90\n",
        "Explanation:\n",
        "The minimum angle between hour and minute hand when the time is 9 is 90 degress."
      ],
      "metadata": {
        "id": "04_Vkl-FGCci"
      }
    },
    {
      "cell_type": "markdown",
      "source": [
        "Explaination: This code calculates the angle between the hour and minute hand on a clock. It takes user input for the hour and minute hand positions, validates the input to make sure it is within the range of a clock (0-12 for hours and 0-60 for minutes), then calculates the angles of the hour and minute hand based on their position on the clock. It then finds the difference between the two angles and takes the absolute value of that difference. It then checks if the angle is greater than 180, if it is, it prints the difference of 360 and the angle, else it prints the angle. The final output is the angle between the hands on the clock."
      ],
      "metadata": {
        "id": "euALP6kmJLkd"
      }
    },
    {
      "cell_type": "code",
      "source": [
        "hour = int(input(\"enter hour: \"))\n",
        "minut = int(input(\"Enter minut: \"))\n",
        "\n",
        "# 6 degree angle find in one minut moving minuts\n",
        "M = minut*6\n",
        "\n",
        "#this formula used to find angle of hour\n",
        "H = (hour*60+minut)*0.5\n",
        "\n",
        "angle = (H-M)\n",
        "\n",
        "if angle > 180:\n",
        "  print(360 - angle)\n",
        "else:\n",
        "  print(angle)\n"
      ],
      "metadata": {
        "id": "ZsVYuVyTKJQ1"
      },
      "execution_count": null,
      "outputs": []
    },
    {
      "cell_type": "markdown",
      "source": [
        "###Problem 15:Given two rectangles, find if the given two rectangles overlap or not. A rectangle is denoted by providing the x and y coordinates of two points: the left top corner and the right bottom corner of the rectangle. Two rectangles sharing a side are considered overlapping. (L1 and R1 are the extreme points of the first rectangle and L2 and R2 are the extreme points of the second rectangle).\n",
        "Note: It may be assumed that the rectangles are parallel to the coordinate axis.\n",
        "\n"
      ],
      "metadata": {
        "id": "0WSMakPZJLxR"
      }
    },
    {
      "cell_type": "code",
      "source": [],
      "metadata": {
        "id": "U4Ggc3TzKKK5"
      },
      "execution_count": null,
      "outputs": []
    },
    {
      "cell_type": "markdown",
      "source": [
        "Explaination: The given code takes the coordinates of two rectangles from the user and checks if they overlap.\n",
        "\n",
        "It does this by first checking if either rectangle has an area of 0 (i.e. one of the sides has length 0), in which case it prints \"Don't Overlap\".\n",
        "It then checks if one rectangle is entirely to the left or above the other, in which case it also prints \"Don't Overlap\". If none of these conditions are true, it prints \"Overlap\"."
      ],
      "metadata": {
        "id": "NWUgKVnAJL5V"
      }
    }
  ]
}